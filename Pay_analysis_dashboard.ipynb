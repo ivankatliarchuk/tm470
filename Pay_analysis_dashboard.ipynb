{
 "cells": [
  {
   "cell_type": "markdown",
   "metadata": {
    "extensions": {
     "jupyter_dashboards": {
      "version": 1,
      "views": {
       "grid_default": {
        "col": 0,
        "height": 2,
        "hidden": false,
        "row": 0,
        "width": 11
       },
       "report_default": {
        "hidden": false
       }
      }
     }
    }
   },
   "source": [
    "# Pay Analaysis Dashboard"
   ]
  },
  {
   "cell_type": "code",
   "execution_count": 1,
   "metadata": {
    "collapsed": true,
    "extensions": {
     "jupyter_dashboards": {
      "version": 1,
      "views": {
       "grid_default": {
        "hidden": true
       },
       "report_default": {
        "hidden": true
       }
      }
     }
    }
   },
   "outputs": [],
   "source": [
    "%matplotlib inline"
   ]
  },
  {
   "cell_type": "code",
   "execution_count": 2,
   "metadata": {
    "collapsed": true,
    "extensions": {
     "jupyter_dashboards": {
      "version": 1,
      "views": {
       "grid_default": {
        "hidden": true
       },
       "report_default": {
        "hidden": true
       }
      }
     }
    }
   },
   "outputs": [],
   "source": [
    "import numpy as np\n",
    "import pandas as pd\n",
    "import matplotlib.pyplot as plt\n",
    "import seaborn as sns\n",
    "from datetime import date\n",
    "from sqlalchemy import create_engine"
   ]
  },
  {
   "cell_type": "code",
   "execution_count": 3,
   "metadata": {
    "collapsed": true,
    "extensions": {
     "jupyter_dashboards": {
      "version": 1,
      "views": {
       "grid_default": {
        "hidden": true
       },
       "report_default": {
        "hidden": true
       }
      }
     }
    }
   },
   "outputs": [],
   "source": [
    "import warnings\n",
    "warnings.filterwarnings('ignore')"
   ]
  },
  {
   "cell_type": "code",
   "execution_count": 4,
   "metadata": {
    "collapsed": true,
    "extensions": {
     "jupyter_dashboards": {
      "version": 1,
      "views": {
       "grid_default": {
        "hidden": true
       },
       "report_default": {
        "hidden": true
       }
      }
     }
    }
   },
   "outputs": [],
   "source": [
    "plt.style.use('ggplot')\n",
    "plt.rcParams['font.family'] = 'DejaVu Sans'"
   ]
  },
  {
   "cell_type": "code",
   "execution_count": 18,
   "metadata": {
    "collapsed": true,
    "extensions": {
     "jupyter_dashboards": {
      "version": 1,
      "views": {
       "grid_default": {
        "hidden": true
       },
       "report_default": {
        "hidden": true
       }
      }
     }
    }
   },
   "outputs": [],
   "source": [
    "def load_data_from_db():\n",
    "    df = pd.read_sql_table('pay_analysis_data', conn, index_col='emp_id')\n",
    "    return df"
   ]
  },
  {
   "cell_type": "code",
   "execution_count": 19,
   "metadata": {
    "extensions": {
     "jupyter_dashboards": {
      "version": 1,
      "views": {
       "grid_default": {
        "hidden": true
       },
       "report_default": {
        "hidden": true
       }
      }
     }
    }
   },
   "outputs": [],
   "source": [
    "# Get the data for analysis\n",
    "engine = create_engine(\"postgresql://Joachim:@localhost/tm470\")\n",
    "conn = engine.connect()\n",
    "people_df = load_data_from_db()\n",
    "conn.close()"
   ]
  },
  {
   "cell_type": "code",
   "execution_count": 22,
   "metadata": {
    "extensions": {
     "jupyter_dashboards": {
      "version": 1,
      "views": {
       "grid_default": {
        "hidden": true
       },
       "report_default": {
        "hidden": true
       }
      }
     }
    }
   },
   "outputs": [],
   "source": [
    "# Create additional columns\n",
    "people_df['grade'] = people_df.payband_id.apply(lambda x: 'P{}'.format(x))\n",
    "\n",
    "# Make age group to categorical to show in correct order\n",
    "age_groups = ['30-39', '40-49', '50-59', '60-69']\n",
    "people_df['age_group'] = people_df['age_group'].astype('category', categories=age_groups)"
   ]
  },
  {
   "cell_type": "code",
   "execution_count": 23,
   "metadata": {
    "collapsed": true,
    "extensions": {
     "jupyter_dashboards": {
      "version": 1,
      "views": {
       "grid_default": {
        "hidden": true
       },
       "report_default": {}
      }
     }
    }
   },
   "outputs": [],
   "source": [
    "# Graph setup\n",
    "# These are the \"Tableau 20\" colors as RGB.    \n",
    "tableau20 = [(31, 119, 180), (174, 199, 232), (255, 127, 14), (255, 187, 120),    \n",
    "             (44, 160, 44), (152, 223, 138), (214, 39, 40), (255, 152, 150),    \n",
    "             (148, 103, 189), (197, 176, 213), (140, 86, 75), (196, 156, 148),    \n",
    "             (227, 119, 194), (247, 182, 210), (127, 127, 127), (199, 199, 199),    \n",
    "             (188, 189, 34), (219, 219, 141), (23, 190, 207), (158, 218, 229)]  \n",
    "\n",
    "# Scale the RGB values to the [0, 1] range, which is the format matplotlib accepts.    \n",
    "for i in range(len(tableau20)):    \n",
    "    r, g, b = tableau20[i]    \n",
    "    tableau20[i] = (r / 255., g / 255., b / 255.)    "
   ]
  },
  {
   "cell_type": "markdown",
   "metadata": {
    "extensions": {
     "jupyter_dashboards": {
      "version": 1,
      "views": {
       "grid_default": {
        "col": 0,
        "height": 2,
        "hidden": false,
        "row": 2,
        "width": 4
       },
       "report_default": {
        "hidden": false
       }
      }
     }
    }
   },
   "source": [
    "## Workforce composition"
   ]
  },
  {
   "cell_type": "markdown",
   "metadata": {
    "extensions": {
     "jupyter_dashboards": {
      "version": 1,
      "views": {
       "grid_default": {
        "col": 0,
        "height": 2,
        "hidden": false,
        "row": 4,
        "width": 12
       },
       "report_default": {
        "hidden": false
       }
      }
     }
    }
   },
   "source": [
    "The following table shows the current staff numbers and salary information"
   ]
  },
  {
   "cell_type": "code",
   "execution_count": 24,
   "metadata": {
    "extensions": {
     "jupyter_dashboards": {
      "version": 1,
      "views": {
       "grid_default": {
        "col": 0,
        "height": 7,
        "hidden": false,
        "row": 6,
        "width": 8
       },
       "report_default": {
        "hidden": false
       }
      }
     }
    }
   },
   "outputs": [
    {
     "data": {
      "text/html": [
       "<style  type=\"text/css\" >\n",
       "</style>  \n",
       "<table id=\"T_7eb48f0c_60bf_11e7_8f58_80e650213924\" > \n",
       "<thead>    <tr> \n",
       "        <th class=\"blank level0\" ></th> \n",
       "        <th class=\"col_heading level0 col0\" colspan=4>salary</th> \n",
       "        <th class=\"col_heading level0 col4\" >fte</th> \n",
       "        <th class=\"col_heading level0 col5\" >headcount</th> \n",
       "    </tr>    <tr> \n",
       "        <th class=\"blank level1\" ></th> \n",
       "        <th class=\"col_heading level1 col0\" >min</th> \n",
       "        <th class=\"col_heading level1 col1\" >max</th> \n",
       "        <th class=\"col_heading level1 col2\" >mean</th> \n",
       "        <th class=\"col_heading level1 col3\" >median</th> \n",
       "        <th class=\"col_heading level1 col4\" >sum</th> \n",
       "        <th class=\"col_heading level1 col5\" >size</th> \n",
       "    </tr>    <tr> \n",
       "        <th class=\"index_name level0\" >grade</th> \n",
       "        <th class=\"blank\" ></th> \n",
       "        <th class=\"blank\" ></th> \n",
       "        <th class=\"blank\" ></th> \n",
       "        <th class=\"blank\" ></th> \n",
       "        <th class=\"blank\" ></th> \n",
       "        <th class=\"blank\" ></th> \n",
       "    </tr></thead> \n",
       "<tbody>    <tr> \n",
       "        <th id=\"T_7eb48f0c_60bf_11e7_8f58_80e650213924\" class=\"row_heading level0 row0\" >P1</th> \n",
       "        <td id=\"T_7eb48f0c_60bf_11e7_8f58_80e650213924row0_col0\" class=\"data row0 col0\" >62,000</td> \n",
       "        <td id=\"T_7eb48f0c_60bf_11e7_8f58_80e650213924row0_col1\" class=\"data row0 col1\" >98,453</td> \n",
       "        <td id=\"T_7eb48f0c_60bf_11e7_8f58_80e650213924row0_col2\" class=\"data row0 col2\" >74,912.6</td> \n",
       "        <td id=\"T_7eb48f0c_60bf_11e7_8f58_80e650213924row0_col3\" class=\"data row0 col3\" >73,267</td> \n",
       "        <td id=\"T_7eb48f0c_60bf_11e7_8f58_80e650213924row0_col4\" class=\"data row0 col4\" >124.5</td> \n",
       "        <td id=\"T_7eb48f0c_60bf_11e7_8f58_80e650213924row0_col5\" class=\"data row0 col5\" >130</td> \n",
       "    </tr>    <tr> \n",
       "        <th id=\"T_7eb48f0c_60bf_11e7_8f58_80e650213924\" class=\"row_heading level0 row1\" >P2</th> \n",
       "        <td id=\"T_7eb48f0c_60bf_11e7_8f58_80e650213924row1_col0\" class=\"data row1 col0\" >86,000</td> \n",
       "        <td id=\"T_7eb48f0c_60bf_11e7_8f58_80e650213924row1_col1\" class=\"data row1 col1\" >155,250</td> \n",
       "        <td id=\"T_7eb48f0c_60bf_11e7_8f58_80e650213924row1_col2\" class=\"data row1 col2\" >108,050.7</td> \n",
       "        <td id=\"T_7eb48f0c_60bf_11e7_8f58_80e650213924row1_col3\" class=\"data row1 col3\" >105,607</td> \n",
       "        <td id=\"T_7eb48f0c_60bf_11e7_8f58_80e650213924row1_col4\" class=\"data row1 col4\" >27.1</td> \n",
       "        <td id=\"T_7eb48f0c_60bf_11e7_8f58_80e650213924row1_col5\" class=\"data row1 col5\" >29</td> \n",
       "    </tr>    <tr> \n",
       "        <th id=\"T_7eb48f0c_60bf_11e7_8f58_80e650213924\" class=\"row_heading level0 row2\" >P3</th> \n",
       "        <td id=\"T_7eb48f0c_60bf_11e7_8f58_80e650213924row2_col0\" class=\"data row2 col0\" >122,000</td> \n",
       "        <td id=\"T_7eb48f0c_60bf_11e7_8f58_80e650213924row2_col1\" class=\"data row2 col1\" >143,350</td> \n",
       "        <td id=\"T_7eb48f0c_60bf_11e7_8f58_80e650213924row2_col2\" class=\"data row2 col2\" >134,193.6</td> \n",
       "        <td id=\"T_7eb48f0c_60bf_11e7_8f58_80e650213924row2_col3\" class=\"data row2 col3\" >135,833</td> \n",
       "        <td id=\"T_7eb48f0c_60bf_11e7_8f58_80e650213924row2_col4\" class=\"data row2 col4\" >7.0</td> \n",
       "        <td id=\"T_7eb48f0c_60bf_11e7_8f58_80e650213924row2_col5\" class=\"data row2 col5\" >7</td> \n",
       "    </tr></tbody> \n",
       "</table> "
      ],
      "text/plain": [
       "<pandas.io.formats.style.Styler at 0x114825d30>"
      ]
     },
     "execution_count": 24,
     "metadata": {},
     "output_type": "execute_result"
    }
   ],
   "source": [
    "summary_df = people_df.groupby(['grade'])['salary','fte','headcount'].aggregate({\n",
    "    'salary': ['min', 'max', np.mean, np.median],\n",
    "    'fte': np.sum,\n",
    "    'headcount': np.size\n",
    "})\n",
    "summary_df.round(1).style.format('{:,}')"
   ]
  },
  {
   "cell_type": "markdown",
   "metadata": {
    "extensions": {
     "jupyter_dashboards": {
      "version": 1,
      "views": {
       "grid_default": {
        "col": 0,
        "height": 2,
        "hidden": false,
        "row": 13,
        "width": 4
       },
       "report_default": {
        "hidden": false
       }
      }
     }
    }
   },
   "source": [
    "### Gender composition by payband"
   ]
  },
  {
   "cell_type": "code",
   "execution_count": 25,
   "metadata": {
    "collapsed": true,
    "extensions": {
     "jupyter_dashboards": {
      "version": 1,
      "views": {
       "grid_default": {
        "hidden": true
       },
       "report_default": {}
      }
     }
    }
   },
   "outputs": [],
   "source": [
    "labels = ['Female', 'Male']"
   ]
  },
  {
   "cell_type": "code",
   "execution_count": 26,
   "metadata": {
    "extensions": {
     "jupyter_dashboards": {
      "version": 1,
      "views": {
       "grid_default": {
        "col": 0,
        "height": 7,
        "hidden": false,
        "row": 15,
        "width": 8
       },
       "report_default": {}
      }
     }
    }
   },
   "outputs": [
    {
     "data": {
      "image/png": "[encoded data removed]",
      "text/plain": [
       "<matplotlib.figure.Figure at 0x11468d898>"
      ]
     },
     "metadata": {},
     "output_type": "display_data"
    }
   ],
   "source": [
    "gender_df = pd.crosstab(people_df.gender, people_df.grade)\n",
    "gender_df.plot.pie(subplots=True, figsize=(12,3), legend=False, labels=labels, \n",
    "                   autopct='%1.0f%%', textprops={'color':'white'})\n",
    "plt.legend(bbox_to_anchor=(1,1))\n",
    "plt.show()"
   ]
  },
  {
   "cell_type": "markdown",
   "metadata": {
    "extensions": {
     "jupyter_dashboards": {
      "version": 1,
      "views": {
       "grid_default": {
        "col": 0,
        "height": 2,
        "hidden": false,
        "row": 22,
        "width": 4
       },
       "report_default": {}
      }
     }
    }
   },
   "source": [
    "### Age"
   ]
  },
  {
   "cell_type": "code",
   "execution_count": 27,
   "metadata": {
    "extensions": {
     "jupyter_dashboards": {
      "version": 1,
      "views": {
       "grid_default": {
        "col": 0,
        "height": 10,
        "hidden": false,
        "row": 24,
        "width": 4
       },
       "report_default": {}
      }
     }
    }
   },
   "outputs": [
    {
     "data": {
      "image/png": "[encoded data removed]",
      "text/plain": [
       "<matplotlib.figure.Figure at 0x114946fd0>"
      ]
     },
     "metadata": {},
     "output_type": "display_data"
    }
   ],
   "source": [
    "gender_df = people_df.pivot_table(index='grade', columns='age_group', values='headcount', aggfunc=np.sum)\n",
    "gender_df.plot.bar();\n",
    "plt.title('Age distribution');"
   ]
  },
  {
   "cell_type": "markdown",
   "metadata": {
    "extensions": {
     "jupyter_dashboards": {
      "version": 1,
      "views": {
       "grid_default": {
        "col": 4,
        "height": 2,
        "hidden": false,
        "row": 22,
        "width": 3
       },
       "report_default": {}
      }
     }
    }
   },
   "source": [
    "### Working pattern"
   ]
  },
  {
   "cell_type": "code",
   "execution_count": 28,
   "metadata": {
    "extensions": {
     "jupyter_dashboards": {
      "version": 1,
      "views": {
       "grid_default": {
        "col": 4,
        "height": 10,
        "hidden": false,
        "row": 24,
        "width": 4
       },
       "report_default": {}
      }
     }
    }
   },
   "outputs": [
    {
     "data": {
      "image/png": "[encoded data removed]",
      "text/plain": [
       "<matplotlib.figure.Figure at 0x114946550>"
      ]
     },
     "metadata": {},
     "output_type": "display_data"
    }
   ],
   "source": [
    "gender_df = people_df.pivot_table(index='grade', columns='work_pattern', values='headcount', aggfunc=np.sum)\n",
    "gender_df.plot.bar();\n",
    "plt.title('Working pattern distribution');"
   ]
  },
  {
   "cell_type": "markdown",
   "metadata": {
    "extensions": {
     "jupyter_dashboards": {
      "version": 1,
      "views": {
       "grid_default": {
        "col": 0,
        "height": 3,
        "hidden": false,
        "row": 34,
        "width": 12
       },
       "report_default": {}
      }
     }
    }
   },
   "source": [
    "## Salary distribution"
   ]
  },
  {
   "cell_type": "code",
   "execution_count": 29,
   "metadata": {
    "extensions": {
     "jupyter_dashboards": {
      "version": 1,
      "views": {
       "grid_default": {
        "col": 0,
        "height": 11,
        "hidden": false,
        "row": 37,
        "width": 5
       },
       "report_default": {
        "hidden": false
       }
      }
     }
    }
   },
   "outputs": [
    {
     "data": {
      "image/png": "[encoded data removed]",
      "text/plain": [
       "<matplotlib.figure.Figure at 0x10d5b5b38>"
      ]
     },
     "metadata": {},
     "output_type": "display_data"
    }
   ],
   "source": [
    "g = sns.boxplot(x='grade', y='salary', data=people_df)\n",
    "g.set_xlabel('Payband')\n",
    "g.set_ylabel('Salary')\n",
    "g.set_title('Salary distribution by Payband')\n",
    "plt.show(g)"
   ]
  },
  {
   "cell_type": "code",
   "execution_count": 30,
   "metadata": {
    "extensions": {
     "jupyter_dashboards": {
      "version": 1,
      "views": {
       "grid_default": {
        "col": 0,
        "height": 13,
        "hidden": false,
        "row": 48,
        "width": 5
       },
       "report_default": {
        "hidden": false
       }
      }
     }
    }
   },
   "outputs": [
    {
     "data": {
      "image/png": "[encoded data removed]",
      "text/plain": [
       "<matplotlib.figure.Figure at 0x113ff2710>"
      ]
     },
     "metadata": {},
     "output_type": "display_data"
    }
   ],
   "source": [
    "g = sns.stripplot(x='age_group', y='salary', data=people_df, jitter=True)\n",
    "g.set_title('Salary by age group')\n",
    "g.set_xlabel('Age')\n",
    "plt.show(g)"
   ]
  },
  {
   "cell_type": "code",
   "execution_count": 31,
   "metadata": {
    "extensions": {
     "jupyter_dashboards": {
      "version": 1,
      "views": {
       "grid_default": {
        "col": 5,
        "height": 11,
        "hidden": false,
        "row": 37,
        "width": 5
       },
       "report_default": {
        "hidden": false
       }
      }
     }
    }
   },
   "outputs": [
    {
     "data": {
      "image/png": "[encoded data removed]",
      "text/plain": [
       "<matplotlib.figure.Figure at 0x114074d68>"
      ]
     },
     "metadata": {},
     "output_type": "display_data"
    }
   ],
   "source": [
    "g = sns.violinplot(x='grade', y='salary', data=people_df, hue='gender', split=True)\n",
    "g.set_title('Salary by payband and gender')\n",
    "g.set_xlabel('Payband')\n",
    "plt.show(g)"
   ]
  },
  {
   "cell_type": "code",
   "execution_count": null,
   "metadata": {
    "extensions": {
     "jupyter_dashboards": {
      "version": 1,
      "views": {
       "grid_default": {
        "col": 0,
        "height": 2,
        "hidden": true,
        "row": 13,
        "width": 12
       },
       "report_default": {
        "hidden": true
       }
      }
     }
    }
   },
   "outputs": [],
   "source": []
  },
  {
   "cell_type": "code",
   "execution_count": null,
   "metadata": {
    "collapsed": true,
    "extensions": {
     "jupyter_dashboards": {
      "version": 1,
      "views": {
       "grid_default": {
        "hidden": true
       },
       "report_default": {}
      }
     }
    }
   },
   "outputs": [],
   "source": []
  }
 ],
 "metadata": {
  "extensions": {
   "jupyter_dashboards": {
    "activeView": "grid_default",
    "version": 1,
    "views": {
     "grid_default": {
      "cellMargin": 10,
      "defaultCellHeight": 20,
      "maxColumns": 12,
      "name": "grid",
      "type": "grid"
     },
     "report_default": {
      "name": "report",
      "type": "report"
     }
    }
   }
  },
  "kernelspec": {
   "display_name": "Python 3",
   "language": "python",
   "name": "python3"
  },
  "language_info": {
   "codemirror_mode": {
    "name": "ipython",
    "version": 3
   },
   "file_extension": ".py",
   "mimetype": "text/x-python",
   "name": "python",
   "nbconvert_exporter": "python",
   "pygments_lexer": "ipython3",
   "version": "3.6.1"
  }
 },
 "nbformat": 4,
 "nbformat_minor": 2
}
