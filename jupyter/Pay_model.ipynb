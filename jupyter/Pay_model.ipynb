{
 "cells": [
  {
   "cell_type": "markdown",
   "metadata": {
    "extensions": {
     "jupyter_dashboards": {
      "version": 1,
      "views": {
       "grid_default": {
        "col": 0,
        "height": 4,
        "hidden": false,
        "row": 0,
        "width": 4
       },
       "report_default": {
        "hidden": false
       }
      }
     }
    }
   },
   "source": [
    "# Monte-Carlo simulation pay model"
   ]
  },
  {
   "cell_type": "markdown",
   "metadata": {
    "extensions": {
     "jupyter_dashboards": {
      "version": 1,
      "views": {
       "grid_default": {
        "col": 4,
        "height": 4,
        "hidden": false,
        "row": 0,
        "width": 4
       },
       "report_default": {
        "hidden": false
       }
      }
     }
    }
   },
   "source": [
    "## TO DO:"
   ]
  },
  {
   "cell_type": "markdown",
   "metadata": {
    "extensions": {
     "jupyter_dashboards": {
      "version": 1,
      "views": {
       "grid_default": {
        "col": 0,
        "height": 10,
        "hidden": false,
        "row": 4,
        "width": 12
       },
       "report_default": {
        "hidden": false
       }
      }
     }
    }
   },
   "source": [
    "- Database tables for model data\n",
    "    * [X] Each pay option is listed in `pay_options` table\n",
    "    * [X] Amounts associated with each option are in `pay_options_data`\n",
    "    * [ ] The results (costs) of each option are stored in `model_results`\n",
    "\n",
    "\n",
    "- Create bonus award option\n",
    "    * [X] Same logic but for non-consolidated award\n",
    "\n",
    "\n",
    "- Create dashboard with\n",
    "    * Population analysis\n",
    "    * Salary distribution\n",
    "    * Stats on the pay bill and award pot\n",
    "    * Effect of pay award"
   ]
  },
  {
   "cell_type": "code",
   "execution_count": 1,
   "metadata": {
    "collapsed": true,
    "extensions": {
     "jupyter_dashboards": {
      "version": 1,
      "views": {
       "grid_default": {
        "hidden": true
       },
       "report_default": {
        "hidden": true
       }
      }
     }
    }
   },
   "outputs": [],
   "source": [
    "%matplotlib inline"
   ]
  },
  {
   "cell_type": "code",
   "execution_count": 2,
   "metadata": {
    "collapsed": true,
    "extensions": {
     "jupyter_dashboards": {
      "version": 1,
      "views": {
       "grid_default": {
        "hidden": true
       },
       "report_default": {
        "hidden": true
       }
      }
     }
    }
   },
   "outputs": [],
   "source": [
    "import os\n",
    "import numpy as np\n",
    "import numpy.random as npr\n",
    "import pandas as pd\n",
    "import matplotlib.pyplot as plt\n",
    "import seaborn as sns\n",
    "from datetime import date\n",
    "from sqlalchemy import create_engine"
   ]
  },
  {
   "cell_type": "code",
   "execution_count": 3,
   "metadata": {
    "collapsed": true,
    "extensions": {
     "jupyter_dashboards": {
      "version": 1,
      "views": {
       "grid_default": {
        "hidden": true
       },
       "report_default": {
        "hidden": true
       }
      }
     }
    }
   },
   "outputs": [],
   "source": [
    "plt.style.use('ggplot')\n",
    "plt.rcParams['font.family'] = 'DejaVu Sans'\n",
    "plt.rcParams['figure.figsize'] = [8, 6]\n",
    "%config InlineBackend.figure_format = 'retina'"
   ]
  },
  {
   "cell_type": "markdown",
   "metadata": {
    "extensions": {
     "jupyter_dashboards": {
      "version": 1,
      "views": {
       "grid_default": {
        "col": 8,
        "height": 4,
        "hidden": false,
        "row": 0,
        "width": 4
       },
       "report_default": {
        "hidden": false
       }
      }
     }
    }
   },
   "source": [
    "## Database connection"
   ]
  },
  {
   "cell_type": "code",
   "execution_count": 4,
   "metadata": {
    "collapsed": true,
    "extensions": {
     "jupyter_dashboards": {
      "version": 1,
      "views": {
       "grid_default": {
        "hidden": true
       },
       "report_default": {
        "hidden": true
       }
      }
     }
    }
   },
   "outputs": [],
   "source": [
    "db_pass = os.getenv('PASSWORD')"
   ]
  },
  {
   "cell_type": "code",
   "execution_count": 280,
   "metadata": {
    "collapsed": true,
    "extensions": {
     "jupyter_dashboards": {
      "version": 1,
      "views": {
       "grid_default": {
        "hidden": true
       },
       "report_default": {
        "hidden": true
       }
      }
     }
    }
   },
   "outputs": [],
   "source": [
    "# Server\n",
    "if db_pass:\n",
    "    engine = create_engine(\"postgresql://tm470_owner:{}@172.17.0.1/tm470\".format(db_pass))\n",
    "    conn = engine.connect()\n",
    "else:\n",
    "    # Local environment\n",
    "    engine = create_engine(\"postgresql://Joachim:@localhost/tm470\")\n",
    "    conn = engine.connect()"
   ]
  },
  {
   "cell_type": "markdown",
   "metadata": {
    "extensions": {
     "jupyter_dashboards": {
      "version": 1,
      "views": {
       "grid_default": {
        "col": 0,
        "height": 4,
        "hidden": false,
        "row": 14,
        "width": 4
       },
       "report_default": {
        "hidden": false
       }
      }
     }
    }
   },
   "source": [
    "### Load reference tables"
   ]
  },
  {
   "cell_type": "markdown",
   "metadata": {
    "extensions": {
     "jupyter_dashboards": {
      "version": 1,
      "views": {
       "grid_default": {
        "col": 4,
        "height": 4,
        "hidden": false,
        "row": 14,
        "width": 4
       },
       "report_default": {
        "hidden": false
       }
      }
     }
    }
   },
   "source": [
    "#### Pay periods"
   ]
  },
  {
   "cell_type": "code",
   "execution_count": 281,
   "metadata": {
    "extensions": {
     "jupyter_dashboards": {
      "version": 1,
      "views": {
       "grid_default": {
        "col": 8,
        "height": 5,
        "hidden": false,
        "row": 14,
        "width": 4
       },
       "report_default": {
        "hidden": false
       }
      }
     }
    },
    "scrolled": false
   },
   "outputs": [
    {
     "data": {
      "text/html": [
       "<div>\n",
       "<style>\n",
       "    .dataframe thead tr:only-child th {\n",
       "        text-align: right;\n",
       "    }\n",
       "\n",
       "    .dataframe thead th {\n",
       "        text-align: left;\n",
       "    }\n",
       "\n",
       "    .dataframe tbody tr th {\n",
       "        vertical-align: top;\n",
       "    }\n",
       "</style>\n",
       "<table border=\"1\" class=\"dataframe\">\n",
       "  <thead>\n",
       "    <tr style=\"text-align: right;\">\n",
       "      <th></th>\n",
       "      <th>id</th>\n",
       "      <th>period_name</th>\n",
       "      <th>start_date</th>\n",
       "      <th>end_date</th>\n",
       "      <th>cutoff_date</th>\n",
       "    </tr>\n",
       "  </thead>\n",
       "  <tbody>\n",
       "    <tr>\n",
       "      <th>0</th>\n",
       "      <td>1</td>\n",
       "      <td>2016/17</td>\n",
       "      <td>2016-04-01</td>\n",
       "      <td>2017-03-31</td>\n",
       "      <td>2017-01-01</td>\n",
       "    </tr>\n",
       "    <tr>\n",
       "      <th>1</th>\n",
       "      <td>2</td>\n",
       "      <td>2017/18</td>\n",
       "      <td>2017-04-01</td>\n",
       "      <td>2018-03-31</td>\n",
       "      <td>2018-01-01</td>\n",
       "    </tr>\n",
       "  </tbody>\n",
       "</table>\n",
       "</div>"
      ],
      "text/plain": [
       "   id period_name start_date   end_date cutoff_date\n",
       "0   1     2016/17 2016-04-01 2017-03-31  2017-01-01\n",
       "1   2     2017/18 2017-04-01 2018-03-31  2018-01-01"
      ]
     },
     "execution_count": 281,
     "metadata": {},
     "output_type": "execute_result"
    }
   ],
   "source": [
    "pay_periods_df = pd.read_sql_table('pay_periods', conn)\n",
    "pay_periods_df"
   ]
  },
  {
   "cell_type": "code",
   "execution_count": 282,
   "metadata": {
    "extensions": {
     "jupyter_dashboards": {
      "version": 1,
      "views": {
       "grid_default": {
        "col": 0,
        "height": 6,
        "hidden": false,
        "row": 18,
        "width": 5
       },
       "report_default": {
        "hidden": false
       }
      }
     }
    }
   },
   "outputs": [
    {
     "data": {
      "text/html": [
       "<div>\n",
       "<style>\n",
       "    .dataframe thead tr:only-child th {\n",
       "        text-align: right;\n",
       "    }\n",
       "\n",
       "    .dataframe thead th {\n",
       "        text-align: left;\n",
       "    }\n",
       "\n",
       "    .dataframe tbody tr th {\n",
       "        vertical-align: top;\n",
       "    }\n",
       "</style>\n",
       "<table border=\"1\" class=\"dataframe\">\n",
       "  <thead>\n",
       "    <tr style=\"text-align: right;\">\n",
       "      <th></th>\n",
       "      <th>id</th>\n",
       "      <th>name</th>\n",
       "      <th>type</th>\n",
       "      <th>period_name</th>\n",
       "      <th>cutoff_date</th>\n",
       "    </tr>\n",
       "  </thead>\n",
       "  <tbody>\n",
       "    <tr>\n",
       "      <th>0</th>\n",
       "      <td>1</td>\n",
       "      <td>Pay award 16/17 - £1k (consolidated)</td>\n",
       "      <td>Consolidated</td>\n",
       "      <td>2016/17</td>\n",
       "      <td>2017-01-01</td>\n",
       "    </tr>\n",
       "    <tr>\n",
       "      <th>1</th>\n",
       "      <td>2</td>\n",
       "      <td>Pay award 16/17 - Bonuses</td>\n",
       "      <td>Non-consolidated</td>\n",
       "      <td>2016/17</td>\n",
       "      <td>2017-01-01</td>\n",
       "    </tr>\n",
       "  </tbody>\n",
       "</table>\n",
       "</div>"
      ],
      "text/plain": [
       "   id                                  name              type period_name  \\\n",
       "0   1  Pay award 16/17 - £1k (consolidated)      Consolidated     2016/17   \n",
       "1   2             Pay award 16/17 - Bonuses  Non-consolidated     2016/17   \n",
       "\n",
       "  cutoff_date  \n",
       "0  2017-01-01  \n",
       "1  2017-01-01  "
      ]
     },
     "execution_count": 282,
     "metadata": {},
     "output_type": "execute_result"
    }
   ],
   "source": [
    "pay_options_df = pd.read_sql_table('pay_options_v', conn)\n",
    "pay_options_df"
   ]
  },
  {
   "cell_type": "markdown",
   "metadata": {
    "extensions": {
     "jupyter_dashboards": {
      "version": 1,
      "views": {
       "grid_default": {
        "col": 5,
        "height": 4,
        "hidden": false,
        "row": 19,
        "width": 4
       },
       "report_default": {
        "hidden": false
       }
      }
     }
    }
   },
   "source": [
    "#### Pay ranges"
   ]
  },
  {
   "cell_type": "code",
   "execution_count": 283,
   "metadata": {
    "extensions": {
     "jupyter_dashboards": {
      "version": 1,
      "views": {
       "grid_default": {
        "col": 5,
        "height": 6,
        "hidden": false,
        "row": 23,
        "width": 4
       },
       "report_default": {
        "hidden": false
       }
      }
     }
    }
   },
   "outputs": [
    {
     "data": {
      "text/html": [
       "<div>\n",
       "<style>\n",
       "    .dataframe thead tr:only-child th {\n",
       "        text-align: right;\n",
       "    }\n",
       "\n",
       "    .dataframe thead th {\n",
       "        text-align: left;\n",
       "    }\n",
       "\n",
       "    .dataframe tbody tr th {\n",
       "        vertical-align: top;\n",
       "    }\n",
       "</style>\n",
       "<table border=\"1\" class=\"dataframe\">\n",
       "  <thead>\n",
       "    <tr style=\"text-align: right;\">\n",
       "      <th></th>\n",
       "      <th>min</th>\n",
       "      <th>max</th>\n",
       "      <th>period_name</th>\n",
       "    </tr>\n",
       "    <tr>\n",
       "      <th>payband</th>\n",
       "      <th></th>\n",
       "      <th></th>\n",
       "      <th></th>\n",
       "    </tr>\n",
       "  </thead>\n",
       "  <tbody>\n",
       "    <tr>\n",
       "      <th>1</th>\n",
       "      <td>64000</td>\n",
       "      <td>117800</td>\n",
       "      <td>2016/17</td>\n",
       "    </tr>\n",
       "    <tr>\n",
       "      <th>2</th>\n",
       "      <td>87000</td>\n",
       "      <td>162500</td>\n",
       "      <td>2016/17</td>\n",
       "    </tr>\n",
       "    <tr>\n",
       "      <th>3</th>\n",
       "      <td>106000</td>\n",
       "      <td>208100</td>\n",
       "      <td>2016/17</td>\n",
       "    </tr>\n",
       "  </tbody>\n",
       "</table>\n",
       "</div>"
      ],
      "text/plain": [
       "            min     max period_name\n",
       "payband                            \n",
       "1         64000  117800     2016/17\n",
       "2         87000  162500     2016/17\n",
       "3        106000  208100     2016/17"
      ]
     },
     "execution_count": 283,
     "metadata": {},
     "output_type": "execute_result"
    }
   ],
   "source": [
    "pay_ranges_df = pd.read_sql_table('pay_ranges_v', conn, index_col='payband')\n",
    "pay_ranges_df"
   ]
  },
  {
   "cell_type": "markdown",
   "metadata": {
    "extensions": {
     "jupyter_dashboards": {
      "version": 1,
      "views": {
       "grid_default": {
        "col": 0,
        "height": 4,
        "hidden": false,
        "row": 24,
        "width": 4
       },
       "report_default": {
        "hidden": false
       }
      }
     }
    }
   },
   "source": [
    "#### Consolidated pay option data"
   ]
  },
  {
   "cell_type": "code",
   "execution_count": 284,
   "metadata": {
    "collapsed": true,
    "extensions": {
     "jupyter_dashboards": {
      "version": 1,
      "views": {
       "grid_default": {
        "hidden": true
       },
       "report_default": {
        "hidden": true
       }
      }
     }
    }
   },
   "outputs": [],
   "source": [
    "options_query = '''\n",
    "SELECT key,\n",
    "       payband_id AS payband,\n",
    "       value\n",
    "  FROM pay_options_data\n",
    " WHERE pay_option_id = 1\n",
    "'''"
   ]
  },
  {
   "cell_type": "code",
   "execution_count": 285,
   "metadata": {
    "collapsed": true,
    "extensions": {
     "jupyter_dashboards": {
      "version": 1,
      "views": {
       "grid_default": {
        "hidden": true
       },
       "report_default": {
        "hidden": true
       }
      }
     }
    }
   },
   "outputs": [],
   "source": [
    "option_df = pd.read_sql(options_query, conn)"
   ]
  },
  {
   "cell_type": "code",
   "execution_count": 286,
   "metadata": {
    "extensions": {
     "jupyter_dashboards": {
      "version": 1,
      "views": {
       "grid_default": {
        "col": 0,
        "height": 6,
        "hidden": false,
        "row": 29,
        "width": 6
       },
       "report_default": {
        "hidden": false
       }
      }
     }
    },
    "scrolled": true
   },
   "outputs": [
    {
     "data": {
      "text/html": [
       "<div>\n",
       "<style>\n",
       "    .dataframe thead tr:only-child th {\n",
       "        text-align: right;\n",
       "    }\n",
       "\n",
       "    .dataframe thead th {\n",
       "        text-align: left;\n",
       "    }\n",
       "\n",
       "    .dataframe tbody tr th {\n",
       "        vertical-align: top;\n",
       "    }\n",
       "</style>\n",
       "<table border=\"1\" class=\"dataframe\">\n",
       "  <thead>\n",
       "    <tr style=\"text-align: right;\">\n",
       "      <th>key</th>\n",
       "      <th>breakpoint</th>\n",
       "      <th>pay_award_tier1</th>\n",
       "      <th>pay_award_tier2</th>\n",
       "      <th>special_award</th>\n",
       "      <th>special_cases</th>\n",
       "    </tr>\n",
       "    <tr>\n",
       "      <th>payband</th>\n",
       "      <th></th>\n",
       "      <th></th>\n",
       "      <th></th>\n",
       "      <th></th>\n",
       "      <th></th>\n",
       "    </tr>\n",
       "  </thead>\n",
       "  <tbody>\n",
       "    <tr>\n",
       "      <th>1</th>\n",
       "      <td>80000.0</td>\n",
       "      <td>1000.0</td>\n",
       "      <td>250.0</td>\n",
       "      <td>2000.0</td>\n",
       "      <td>10.0</td>\n",
       "    </tr>\n",
       "    <tr>\n",
       "      <th>2</th>\n",
       "      <td>110000.0</td>\n",
       "      <td>1000.0</td>\n",
       "      <td>250.0</td>\n",
       "      <td>2000.0</td>\n",
       "      <td>5.0</td>\n",
       "    </tr>\n",
       "    <tr>\n",
       "      <th>3</th>\n",
       "      <td>135000.0</td>\n",
       "      <td>1000.0</td>\n",
       "      <td>250.0</td>\n",
       "      <td>NaN</td>\n",
       "      <td>NaN</td>\n",
       "    </tr>\n",
       "  </tbody>\n",
       "</table>\n",
       "</div>"
      ],
      "text/plain": [
       "key      breakpoint  pay_award_tier1  pay_award_tier2  special_award  \\\n",
       "payband                                                                \n",
       "1           80000.0           1000.0            250.0         2000.0   \n",
       "2          110000.0           1000.0            250.0         2000.0   \n",
       "3          135000.0           1000.0            250.0            NaN   \n",
       "\n",
       "key      special_cases  \n",
       "payband                 \n",
       "1                 10.0  \n",
       "2                  5.0  \n",
       "3                  NaN  "
      ]
     },
     "execution_count": 286,
     "metadata": {},
     "output_type": "execute_result"
    }
   ],
   "source": [
    "option_df = option_df.pivot(index='payband', columns='key', values='value')\n",
    "option_df"
   ]
  },
  {
   "cell_type": "markdown",
   "metadata": {
    "extensions": {
     "jupyter_dashboards": {
      "version": 1,
      "views": {
       "grid_default": {
        "col": 6,
        "height": 4,
        "hidden": false,
        "row": 29,
        "width": 4
       },
       "report_default": {
        "hidden": false
       }
      }
     }
    }
   },
   "source": [
    "#### Non-consolidated (bonus) option data"
   ]
  },
  {
   "cell_type": "code",
   "execution_count": 287,
   "metadata": {
    "collapsed": true,
    "extensions": {
     "jupyter_dashboards": {
      "version": 1,
      "views": {
       "grid_default": {
        "hidden": true
       },
       "report_default": {
        "hidden": true
       }
      }
     }
    }
   },
   "outputs": [],
   "source": [
    "bonus_query = '''\n",
    "SELECT key,\n",
    "       payband_id AS payband,\n",
    "       value\n",
    "  FROM pay_options_data\n",
    " WHERE pay_option_id = 2\n",
    "'''"
   ]
  },
  {
   "cell_type": "code",
   "execution_count": 288,
   "metadata": {
    "extensions": {
     "jupyter_dashboards": {
      "version": 1,
      "views": {
       "grid_default": {
        "col": 6,
        "height": 6,
        "hidden": false,
        "row": 33,
        "width": 4
       },
       "report_default": {
        "hidden": false
       }
      }
     }
    },
    "scrolled": true
   },
   "outputs": [
    {
     "data": {
      "text/html": [
       "<div>\n",
       "<style>\n",
       "    .dataframe thead tr:only-child th {\n",
       "        text-align: right;\n",
       "    }\n",
       "\n",
       "    .dataframe thead th {\n",
       "        text-align: left;\n",
       "    }\n",
       "\n",
       "    .dataframe tbody tr th {\n",
       "        vertical-align: top;\n",
       "    }\n",
       "</style>\n",
       "<table border=\"1\" class=\"dataframe\">\n",
       "  <thead>\n",
       "    <tr style=\"text-align: right;\">\n",
       "      <th>key</th>\n",
       "      <th>bonus</th>\n",
       "    </tr>\n",
       "    <tr>\n",
       "      <th>payband</th>\n",
       "      <th></th>\n",
       "    </tr>\n",
       "  </thead>\n",
       "  <tbody>\n",
       "    <tr>\n",
       "      <th>1</th>\n",
       "      <td>10750.0</td>\n",
       "    </tr>\n",
       "    <tr>\n",
       "      <th>2</th>\n",
       "      <td>10750.0</td>\n",
       "    </tr>\n",
       "    <tr>\n",
       "      <th>3</th>\n",
       "      <td>10750.0</td>\n",
       "    </tr>\n",
       "  </tbody>\n",
       "</table>\n",
       "</div>"
      ],
      "text/plain": [
       "key        bonus\n",
       "payband         \n",
       "1        10750.0\n",
       "2        10750.0\n",
       "3        10750.0"
      ]
     },
     "execution_count": 288,
     "metadata": {},
     "output_type": "execute_result"
    }
   ],
   "source": [
    "bonus_df = pd.read_sql(bonus_query, conn)\n",
    "bonus_df = bonus_df.pivot(index='payband', columns='key', values='value')\n",
    "bonus_df"
   ]
  },
  {
   "cell_type": "markdown",
   "metadata": {
    "extensions": {
     "jupyter_dashboards": {
      "version": 1,
      "views": {
       "grid_default": {
        "col": 0,
        "height": 4,
        "hidden": false,
        "row": 35,
        "width": 4
       },
       "report_default": {
        "hidden": false
       }
      }
     }
    }
   },
   "source": [
    "### Load model data"
   ]
  },
  {
   "cell_type": "code",
   "execution_count": 289,
   "metadata": {
    "collapsed": true,
    "extensions": {
     "jupyter_dashboards": {
      "version": 1,
      "views": {
       "grid_default": {
        "hidden": true
       },
       "report_default": {
        "hidden": true
       }
      }
     }
    }
   },
   "outputs": [],
   "source": [
    "def load_data_from_file():\n",
    "    return pd.read_csv('data/model_data.csv', parse_dates=['hire_date'], \n",
    "                       thousands=',', index_col='emp_id')\n",
    "\n",
    "def load_data_from_db():\n",
    "    return pd.read_sql_table('model_data', conn, index_col='emp_id')"
   ]
  },
  {
   "cell_type": "code",
   "execution_count": 290,
   "metadata": {
    "extensions": {
     "jupyter_dashboards": {
      "version": 1,
      "views": {
       "grid_default": {
        "col": 0,
        "height": 10,
        "hidden": false,
        "row": 39,
        "width": 5
       },
       "report_default": {
        "hidden": false
       }
      }
     }
    },
    "scrolled": false
   },
   "outputs": [
    {
     "data": {
      "text/html": [
       "<div>\n",
       "<style>\n",
       "    .dataframe thead tr:only-child th {\n",
       "        text-align: right;\n",
       "    }\n",
       "\n",
       "    .dataframe thead th {\n",
       "        text-align: left;\n",
       "    }\n",
       "\n",
       "    .dataframe tbody tr th {\n",
       "        vertical-align: top;\n",
       "    }\n",
       "</style>\n",
       "<table border=\"1\" class=\"dataframe\">\n",
       "  <thead>\n",
       "    <tr style=\"text-align: right;\">\n",
       "      <th></th>\n",
       "      <th>payband</th>\n",
       "      <th>salary</th>\n",
       "      <th>fte</th>\n",
       "      <th>hire_date</th>\n",
       "      <th>headcount</th>\n",
       "      <th>fte_salary</th>\n",
       "    </tr>\n",
       "    <tr>\n",
       "      <th>emp_id</th>\n",
       "      <th></th>\n",
       "      <th></th>\n",
       "      <th></th>\n",
       "      <th></th>\n",
       "      <th></th>\n",
       "      <th></th>\n",
       "    </tr>\n",
       "  </thead>\n",
       "  <tbody>\n",
       "    <tr>\n",
       "      <th>1</th>\n",
       "      <td>1</td>\n",
       "      <td>62000</td>\n",
       "      <td>1.0</td>\n",
       "      <td>1992-01-04</td>\n",
       "      <td>1</td>\n",
       "      <td>62000.0</td>\n",
       "    </tr>\n",
       "    <tr>\n",
       "      <th>2</th>\n",
       "      <td>1</td>\n",
       "      <td>63000</td>\n",
       "      <td>1.0</td>\n",
       "      <td>2007-10-29</td>\n",
       "      <td>1</td>\n",
       "      <td>63000.0</td>\n",
       "    </tr>\n",
       "    <tr>\n",
       "      <th>3</th>\n",
       "      <td>1</td>\n",
       "      <td>63000</td>\n",
       "      <td>1.0</td>\n",
       "      <td>2015-06-10</td>\n",
       "      <td>1</td>\n",
       "      <td>63000.0</td>\n",
       "    </tr>\n",
       "    <tr>\n",
       "      <th>4</th>\n",
       "      <td>1</td>\n",
       "      <td>63000</td>\n",
       "      <td>1.0</td>\n",
       "      <td>2015-10-26</td>\n",
       "      <td>1</td>\n",
       "      <td>63000.0</td>\n",
       "    </tr>\n",
       "    <tr>\n",
       "      <th>5</th>\n",
       "      <td>1</td>\n",
       "      <td>63066</td>\n",
       "      <td>1.0</td>\n",
       "      <td>2015-01-09</td>\n",
       "      <td>1</td>\n",
       "      <td>63066.0</td>\n",
       "    </tr>\n",
       "  </tbody>\n",
       "</table>\n",
       "</div>"
      ],
      "text/plain": [
       "        payband  salary  fte  hire_date  headcount  fte_salary\n",
       "emp_id                                                        \n",
       "1             1   62000  1.0 1992-01-04          1     62000.0\n",
       "2             1   63000  1.0 2007-10-29          1     63000.0\n",
       "3             1   63000  1.0 2015-06-10          1     63000.0\n",
       "4             1   63000  1.0 2015-10-26          1     63000.0\n",
       "5             1   63066  1.0 2015-01-09          1     63066.0"
      ]
     },
     "execution_count": 290,
     "metadata": {},
     "output_type": "execute_result"
    }
   ],
   "source": [
    "model_data = load_data_from_db()\n",
    "df = model_data.copy()\n",
    "df['headcount'] = 1\n",
    "df['fte_salary'] = df['salary'] * df['fte']\n",
    "df[:5]"
   ]
  },
  {
   "cell_type": "code",
   "execution_count": 291,
   "metadata": {
    "extensions": {
     "jupyter_dashboards": {
      "version": 1,
      "views": {
       "grid_default": {
        "col": 5,
        "height": 8,
        "hidden": false,
        "row": 39,
        "width": 4
       },
       "report_default": {
        "hidden": false
       }
      }
     }
    },
    "scrolled": true
   },
   "outputs": [
    {
     "name": "stdout",
     "output_type": "stream",
     "text": [
      "<class 'pandas.core.frame.DataFrame'>\n",
      "Int64Index: 166 entries, 1 to 166\n",
      "Data columns (total 6 columns):\n",
      "payband       166 non-null int64\n",
      "salary        166 non-null int64\n",
      "fte           166 non-null float64\n",
      "hire_date     166 non-null datetime64[ns]\n",
      "headcount     166 non-null int64\n",
      "fte_salary    166 non-null float64\n",
      "dtypes: datetime64[ns](1), float64(2), int64(3)\n",
      "memory usage: 9.1 KB\n"
     ]
    }
   ],
   "source": [
    "df.info()"
   ]
  },
  {
   "cell_type": "code",
   "execution_count": 292,
   "metadata": {
    "collapsed": true,
    "extensions": {
     "jupyter_dashboards": {
      "version": 1,
      "views": {
       "grid_default": {
        "hidden": true
       },
       "report_default": {
        "hidden": true
       }
      }
     }
    }
   },
   "outputs": [],
   "source": [
    "conn.close()"
   ]
  },
  {
   "cell_type": "markdown",
   "metadata": {
    "extensions": {
     "jupyter_dashboards": {
      "version": 1,
      "views": {
       "grid_default": {
        "col": 5,
        "height": 4,
        "hidden": false,
        "row": 47,
        "width": 4
       },
       "report_default": {
        "hidden": false
       }
      }
     }
    }
   },
   "source": [
    "## Overview analysis"
   ]
  },
  {
   "cell_type": "code",
   "execution_count": 293,
   "metadata": {
    "extensions": {
     "jupyter_dashboards": {
      "version": 1,
      "views": {
       "grid_default": {
        "col": 0,
        "height": 7,
        "hidden": false,
        "row": 49,
        "width": 5
       },
       "report_default": {
        "hidden": false
       }
      }
     }
    },
    "scrolled": true
   },
   "outputs": [
    {
     "data": {
      "text/html": [
       "<div>\n",
       "<style>\n",
       "    .dataframe thead tr:only-child th {\n",
       "        text-align: right;\n",
       "    }\n",
       "\n",
       "    .dataframe thead th {\n",
       "        text-align: left;\n",
       "    }\n",
       "\n",
       "    .dataframe tbody tr th {\n",
       "        vertical-align: top;\n",
       "    }\n",
       "</style>\n",
       "<table border=\"1\" class=\"dataframe\">\n",
       "  <thead>\n",
       "    <tr>\n",
       "      <th></th>\n",
       "      <th colspan=\"4\" halign=\"left\">salary</th>\n",
       "      <th colspan=\"2\" halign=\"left\">fte</th>\n",
       "    </tr>\n",
       "    <tr>\n",
       "      <th></th>\n",
       "      <th>sum</th>\n",
       "      <th>amin</th>\n",
       "      <th>amax</th>\n",
       "      <th>median</th>\n",
       "      <th>sum</th>\n",
       "      <th>count</th>\n",
       "    </tr>\n",
       "    <tr>\n",
       "      <th>payband</th>\n",
       "      <th></th>\n",
       "      <th></th>\n",
       "      <th></th>\n",
       "      <th></th>\n",
       "      <th></th>\n",
       "      <th></th>\n",
       "    </tr>\n",
       "  </thead>\n",
       "  <tbody>\n",
       "    <tr>\n",
       "      <th>1</th>\n",
       "      <td>9738634</td>\n",
       "      <td>62000</td>\n",
       "      <td>98453</td>\n",
       "      <td>73267</td>\n",
       "      <td>124.51</td>\n",
       "      <td>130</td>\n",
       "    </tr>\n",
       "    <tr>\n",
       "      <th>2</th>\n",
       "      <td>3133471</td>\n",
       "      <td>86000</td>\n",
       "      <td>155250</td>\n",
       "      <td>105607</td>\n",
       "      <td>27.14</td>\n",
       "      <td>29</td>\n",
       "    </tr>\n",
       "    <tr>\n",
       "      <th>3</th>\n",
       "      <td>939355</td>\n",
       "      <td>122000</td>\n",
       "      <td>143350</td>\n",
       "      <td>135833</td>\n",
       "      <td>7.00</td>\n",
       "      <td>7</td>\n",
       "    </tr>\n",
       "  </tbody>\n",
       "</table>\n",
       "</div>"
      ],
      "text/plain": [
       "          salary                             fte      \n",
       "             sum    amin    amax  median     sum count\n",
       "payband                                               \n",
       "1        9738634   62000   98453   73267  124.51   130\n",
       "2        3133471   86000  155250  105607   27.14    29\n",
       "3         939355  122000  143350  135833    7.00     7"
      ]
     },
     "execution_count": 293,
     "metadata": {},
     "output_type": "execute_result"
    }
   ],
   "source": [
    "payband_stats = df.groupby(['payband'])['salary','fte'].aggregate({'salary': [np.sum, np.min, np.max, np.median],\n",
    "                                                                   'fte': [np.sum, 'count']})\n",
    "payband_stats"
   ]
  },
  {
   "cell_type": "code",
   "execution_count": 294,
   "metadata": {
    "extensions": {
     "jupyter_dashboards": {
      "version": 1,
      "views": {
       "grid_default": {
        "col": 5,
        "height": 4,
        "hidden": false,
        "row": 51,
        "width": 4
       },
       "report_default": {
        "hidden": false
       }
      }
     }
    }
   },
   "outputs": [
    {
     "name": "stdout",
     "output_type": "stream",
     "text": [
      "Est Paybill: £13,811,459\n"
     ]
    }
   ],
   "source": [
    "paybill = 13811459 # for testing\n",
    "print('Est Paybill: £{:,}'.format(paybill))"
   ]
  },
  {
   "cell_type": "code",
   "execution_count": 295,
   "metadata": {
    "extensions": {
     "jupyter_dashboards": {
      "version": 1,
      "views": {
       "grid_default": {
        "col": 5,
        "height": 9,
        "hidden": false,
        "row": 55,
        "width": 4
       },
       "report_default": {
        "hidden": false
       }
      }
     }
    },
    "scrolled": false
   },
   "outputs": [
    {
     "data": {
      "image/png": "[encoded data removed]",
      "text/plain": [
       "<matplotlib.figure.Figure at 0x10d2d7f28>"
      ]
     },
     "metadata": {
      "image/png": {
       "height": 374,
       "width": 524
      }
     },
     "output_type": "display_data"
    }
   ],
   "source": [
    "g = sns.boxplot(x='payband', y='salary', data=df)\n",
    "#g.set_ylim(55000, 210000)"
   ]
  },
  {
   "cell_type": "markdown",
   "metadata": {
    "extensions": {
     "jupyter_dashboards": {
      "version": 1,
      "views": {
       "grid_default": {
        "col": 0,
        "height": 4,
        "hidden": false,
        "row": 56,
        "width": 4
       },
       "report_default": {
        "hidden": false
       }
      }
     }
    }
   },
   "source": [
    "## Random number generation"
   ]
  },
  {
   "cell_type": "code",
   "execution_count": 298,
   "metadata": {
    "collapsed": true,
    "extensions": {
     "jupyter_dashboards": {
      "version": 1,
      "views": {
       "grid_default": {
        "hidden": true
       },
       "report_default": {
        "hidden": true
       }
      }
     }
    }
   },
   "outputs": [],
   "source": [
    "# Generate random number according to the specified probability distribution\n",
    "def _generate_random(n=1):\n",
    "    r_n = npr.choice(3, n, p=[.25, .65, .10])\n",
    "    return r_n + 1"
   ]
  },
  {
   "cell_type": "code",
   "execution_count": 318,
   "metadata": {
    "extensions": {
     "jupyter_dashboards": {
      "version": 1,
      "views": {
       "grid_default": {
        "col": 0,
        "height": 10,
        "hidden": false,
        "row": 64,
        "width": 6
       },
       "report_default": {
        "hidden": false
       }
      }
     }
    },
    "scrolled": false
   },
   "outputs": [
    {
     "data": {
      "text/html": [
       "<div>\n",
       "<style>\n",
       "    .dataframe thead tr:only-child th {\n",
       "        text-align: right;\n",
       "    }\n",
       "\n",
       "    .dataframe thead th {\n",
       "        text-align: left;\n",
       "    }\n",
       "\n",
       "    .dataframe tbody tr th {\n",
       "        vertical-align: top;\n",
       "    }\n",
       "</style>\n",
       "<table border=\"1\" class=\"dataframe\">\n",
       "  <thead>\n",
       "    <tr style=\"text-align: right;\">\n",
       "      <th></th>\n",
       "      <th>total</th>\n",
       "      <th>percent</th>\n",
       "    </tr>\n",
       "    <tr>\n",
       "      <th>random_group</th>\n",
       "      <th></th>\n",
       "      <th></th>\n",
       "    </tr>\n",
       "  </thead>\n",
       "  <tbody>\n",
       "    <tr>\n",
       "      <th>1</th>\n",
       "      <td>42</td>\n",
       "      <td>0.253012</td>\n",
       "    </tr>\n",
       "    <tr>\n",
       "      <th>2</th>\n",
       "      <td>108</td>\n",
       "      <td>0.650602</td>\n",
       "    </tr>\n",
       "    <tr>\n",
       "      <th>3</th>\n",
       "      <td>16</td>\n",
       "      <td>0.096386</td>\n",
       "    </tr>\n",
       "  </tbody>\n",
       "</table>\n",
       "</div>"
      ],
      "text/plain": [
       "              total   percent\n",
       "random_group                 \n",
       "1                42  0.253012\n",
       "2               108  0.650602\n",
       "3                16  0.096386"
      ]
     },
     "execution_count": 318,
     "metadata": {},
     "output_type": "execute_result"
    }
   ],
   "source": [
    "# Assign random group and show distribution\n",
    "n_recs = len(df)\n",
    "df['random_group'] = _generate_random(n_recs)\n",
    "\n",
    "group_totals = (df.groupby('random_group')['headcount'].agg([np.size])).rename(columns={'size': 'total'})\n",
    "group_totals['percent'] = group_totals.total/group_totals.total.sum()\n",
    "group_totals"
   ]
  },
  {
   "cell_type": "markdown",
   "metadata": {
    "extensions": {
     "jupyter_dashboards": {
      "version": 1,
      "views": {
       "grid_default": {
        "col": 0,
        "height": 4,
        "hidden": false,
        "row": 60,
        "width": 4
       },
       "report_default": {
        "hidden": false
       }
      }
     }
    }
   },
   "source": [
    "## Pay uplift"
   ]
  },
  {
   "cell_type": "markdown",
   "metadata": {
    "extensions": {
     "jupyter_dashboards": {
      "version": 1,
      "views": {
       "grid_default": {
        "col": 6,
        "height": 4,
        "hidden": false,
        "row": 70,
        "width": 4
       },
       "report_default": {
        "hidden": false
       }
      }
     }
    }
   },
   "source": [
    "### New pay ranges"
   ]
  },
  {
   "cell_type": "code",
   "execution_count": 319,
   "metadata": {
    "extensions": {
     "jupyter_dashboards": {
      "version": 1,
      "views": {
       "grid_default": {
        "col": 0,
        "height": 6,
        "hidden": false,
        "row": 74,
        "width": 4
       },
       "report_default": {
        "hidden": false
       }
      }
     }
    },
    "scrolled": false
   },
   "outputs": [
    {
     "data": {
      "text/html": [
       "<div>\n",
       "<style>\n",
       "    .dataframe thead tr:only-child th {\n",
       "        text-align: right;\n",
       "    }\n",
       "\n",
       "    .dataframe thead th {\n",
       "        text-align: left;\n",
       "    }\n",
       "\n",
       "    .dataframe tbody tr th {\n",
       "        vertical-align: top;\n",
       "    }\n",
       "</style>\n",
       "<table border=\"1\" class=\"dataframe\">\n",
       "  <thead>\n",
       "    <tr style=\"text-align: right;\">\n",
       "      <th></th>\n",
       "      <th>min</th>\n",
       "      <th>max</th>\n",
       "      <th>period_name</th>\n",
       "    </tr>\n",
       "    <tr>\n",
       "      <th>payband</th>\n",
       "      <th></th>\n",
       "      <th></th>\n",
       "      <th></th>\n",
       "    </tr>\n",
       "  </thead>\n",
       "  <tbody>\n",
       "    <tr>\n",
       "      <th>1</th>\n",
       "      <td>64000</td>\n",
       "      <td>117800</td>\n",
       "      <td>2016/17</td>\n",
       "    </tr>\n",
       "    <tr>\n",
       "      <th>2</th>\n",
       "      <td>87000</td>\n",
       "      <td>162500</td>\n",
       "      <td>2016/17</td>\n",
       "    </tr>\n",
       "    <tr>\n",
       "      <th>3</th>\n",
       "      <td>106000</td>\n",
       "      <td>208100</td>\n",
       "      <td>2016/17</td>\n",
       "    </tr>\n",
       "  </tbody>\n",
       "</table>\n",
       "</div>"
      ],
      "text/plain": [
       "            min     max period_name\n",
       "payband                            \n",
       "1         64000  117800     2016/17\n",
       "2         87000  162500     2016/17\n",
       "3        106000  208100     2016/17"
      ]
     },
     "execution_count": 319,
     "metadata": {},
     "output_type": "execute_result"
    }
   ],
   "source": [
    "pay_ranges_df # from database"
   ]
  },
  {
   "cell_type": "markdown",
   "metadata": {
    "extensions": {
     "jupyter_dashboards": {
      "version": 1,
      "views": {
       "grid_default": {
        "col": 4,
        "height": 4,
        "hidden": false,
        "row": 74,
        "width": 4
       },
       "report_default": {
        "hidden": false
       }
      }
     }
    }
   },
   "source": [
    "# Uplift to new min\n",
    "Everyone is eligible"
   ]
  },
  {
   "cell_type": "code",
   "execution_count": 320,
   "metadata": {
    "collapsed": true,
    "extensions": {
     "jupyter_dashboards": {
      "version": 1,
      "views": {
       "grid_default": {
        "hidden": true
       },
       "report_default": {
        "hidden": true
       }
      }
     }
    }
   },
   "outputs": [],
   "source": [
    "def _apply_pay_uplift(row):\n",
    "    pb = row.payband\n",
    "    new_min = pay_ranges_df.loc[pb, 'min']\n",
    "    if new_min > row.salary:\n",
    "        return new_min - row.salary\n",
    "    else:\n",
    "        return 0"
   ]
  },
  {
   "cell_type": "code",
   "execution_count": 321,
   "metadata": {
    "collapsed": true,
    "extensions": {
     "jupyter_dashboards": {
      "version": 1,
      "views": {
       "grid_default": {
        "hidden": true
       },
       "report_default": {
        "hidden": true
       }
      }
     }
    },
    "scrolled": true
   },
   "outputs": [],
   "source": [
    "# Create new salary column \n",
    "temp_df = df.copy()\n",
    "# Apply the pay uplift function column-wise\n",
    "temp_df['uplift'] = temp_df.apply(_apply_pay_uplift, axis=1)\n",
    "df = temp_df"
   ]
  },
  {
   "cell_type": "markdown",
   "metadata": {
    "extensions": {
     "jupyter_dashboards": {
      "version": 1,
      "views": {
       "grid_default": {
        "col": 8,
        "height": 4,
        "hidden": false,
        "row": 74,
        "width": 4
       },
       "report_default": {
        "hidden": false
       }
      }
     }
    }
   },
   "source": [
    "### Calculate cost of uplift"
   ]
  },
  {
   "cell_type": "code",
   "execution_count": 322,
   "metadata": {
    "extensions": {
     "jupyter_dashboards": {
      "version": 1,
      "views": {
       "grid_default": {
        "col": 4,
        "height": 4,
        "hidden": false,
        "row": 78,
        "width": 4
       },
       "report_default": {
        "hidden": false
       }
      }
     }
    },
    "scrolled": true
   },
   "outputs": [
    {
     "data": {
      "text/plain": [
       "'Cost of uplift: £10,419'"
      ]
     },
     "execution_count": 322,
     "metadata": {},
     "output_type": "execute_result"
    }
   ],
   "source": [
    "uplift = df.uplift.sum()\n",
    "'Cost of uplift: £{:,}'.format(uplift)"
   ]
  },
  {
   "cell_type": "code",
   "execution_count": 323,
   "metadata": {
    "extensions": {
     "jupyter_dashboards": {
      "version": 1,
      "views": {
       "grid_default": {
        "col": 8,
        "height": 4,
        "hidden": false,
        "row": 78,
        "width": 4
       },
       "report_default": {
        "hidden": false
       }
      }
     }
    }
   },
   "outputs": [
    {
     "data": {
      "text/plain": [
       "'Cost of uplift: 0.08%'"
      ]
     },
     "execution_count": 323,
     "metadata": {},
     "output_type": "execute_result"
    }
   ],
   "source": [
    "'Cost of uplift: {:0.00}%'.format(uplift / paybill * 100)"
   ]
  },
  {
   "cell_type": "markdown",
   "metadata": {
    "extensions": {
     "jupyter_dashboards": {
      "version": 1,
      "views": {
       "grid_default": {
        "col": 0,
        "height": 4,
        "hidden": false,
        "row": 80,
        "width": 4
       },
       "report_default": {
        "hidden": false
       }
      }
     }
    }
   },
   "source": [
    "### Analyse model population"
   ]
  },
  {
   "cell_type": "code",
   "execution_count": 324,
   "metadata": {
    "extensions": {
     "jupyter_dashboards": {
      "version": 1,
      "views": {
       "grid_default": {
        "col": 4,
        "height": 7,
        "hidden": false,
        "row": 82,
        "width": 6
       },
       "report_default": {
        "hidden": false
       }
      }
     }
    },
    "scrolled": true
   },
   "outputs": [
    {
     "data": {
      "text/html": [
       "<style  type=\"text/css\" >\n",
       "</style>  \n",
       "<table id=\"T_3452f2e8_8971_11e7_9b77_80e650213924\" > \n",
       "<thead>    <tr> \n",
       "        <th class=\"blank level0\" ></th> \n",
       "        <th class=\"col_heading level0 col0\" colspan=4>salary</th> \n",
       "        <th class=\"col_heading level0 col4\" >fte</th> \n",
       "        <th class=\"col_heading level0 col5\" >headcount</th> \n",
       "    </tr>    <tr> \n",
       "        <th class=\"blank level1\" ></th> \n",
       "        <th class=\"col_heading level1 col0\" >min</th> \n",
       "        <th class=\"col_heading level1 col1\" >max</th> \n",
       "        <th class=\"col_heading level1 col2\" >mean</th> \n",
       "        <th class=\"col_heading level1 col3\" >median</th> \n",
       "        <th class=\"col_heading level1 col4\" >sum</th> \n",
       "        <th class=\"col_heading level1 col5\" >count</th> \n",
       "    </tr>    <tr> \n",
       "        <th class=\"index_name level0\" >payband</th> \n",
       "        <th class=\"blank\" ></th> \n",
       "        <th class=\"blank\" ></th> \n",
       "        <th class=\"blank\" ></th> \n",
       "        <th class=\"blank\" ></th> \n",
       "        <th class=\"blank\" ></th> \n",
       "        <th class=\"blank\" ></th> \n",
       "    </tr></thead> \n",
       "<tbody>    <tr> \n",
       "        <th id=\"T_3452f2e8_8971_11e7_9b77_80e650213924level0_row0\" class=\"row_heading level0 row0\" >1</th> \n",
       "        <td id=\"T_3452f2e8_8971_11e7_9b77_80e650213924row0_col0\" class=\"data row0 col0\" >62,000</td> \n",
       "        <td id=\"T_3452f2e8_8971_11e7_9b77_80e650213924row0_col1\" class=\"data row0 col1\" >98,453</td> \n",
       "        <td id=\"T_3452f2e8_8971_11e7_9b77_80e650213924row0_col2\" class=\"data row0 col2\" >74,912.6</td> \n",
       "        <td id=\"T_3452f2e8_8971_11e7_9b77_80e650213924row0_col3\" class=\"data row0 col3\" >73,267</td> \n",
       "        <td id=\"T_3452f2e8_8971_11e7_9b77_80e650213924row0_col4\" class=\"data row0 col4\" >124.5</td> \n",
       "        <td id=\"T_3452f2e8_8971_11e7_9b77_80e650213924row0_col5\" class=\"data row0 col5\" >130</td> \n",
       "    </tr>    <tr> \n",
       "        <th id=\"T_3452f2e8_8971_11e7_9b77_80e650213924level0_row1\" class=\"row_heading level0 row1\" >2</th> \n",
       "        <td id=\"T_3452f2e8_8971_11e7_9b77_80e650213924row1_col0\" class=\"data row1 col0\" >86,000</td> \n",
       "        <td id=\"T_3452f2e8_8971_11e7_9b77_80e650213924row1_col1\" class=\"data row1 col1\" >155,250</td> \n",
       "        <td id=\"T_3452f2e8_8971_11e7_9b77_80e650213924row1_col2\" class=\"data row1 col2\" >108,050.7</td> \n",
       "        <td id=\"T_3452f2e8_8971_11e7_9b77_80e650213924row1_col3\" class=\"data row1 col3\" >105,607</td> \n",
       "        <td id=\"T_3452f2e8_8971_11e7_9b77_80e650213924row1_col4\" class=\"data row1 col4\" >27.1</td> \n",
       "        <td id=\"T_3452f2e8_8971_11e7_9b77_80e650213924row1_col5\" class=\"data row1 col5\" >29</td> \n",
       "    </tr>    <tr> \n",
       "        <th id=\"T_3452f2e8_8971_11e7_9b77_80e650213924level0_row2\" class=\"row_heading level0 row2\" >3</th> \n",
       "        <td id=\"T_3452f2e8_8971_11e7_9b77_80e650213924row2_col0\" class=\"data row2 col0\" >122,000</td> \n",
       "        <td id=\"T_3452f2e8_8971_11e7_9b77_80e650213924row2_col1\" class=\"data row2 col1\" >143,350</td> \n",
       "        <td id=\"T_3452f2e8_8971_11e7_9b77_80e650213924row2_col2\" class=\"data row2 col2\" >134,193.6</td> \n",
       "        <td id=\"T_3452f2e8_8971_11e7_9b77_80e650213924row2_col3\" class=\"data row2 col3\" >135,833</td> \n",
       "        <td id=\"T_3452f2e8_8971_11e7_9b77_80e650213924row2_col4\" class=\"data row2 col4\" >7.0</td> \n",
       "        <td id=\"T_3452f2e8_8971_11e7_9b77_80e650213924row2_col5\" class=\"data row2 col5\" >7</td> \n",
       "    </tr></tbody> \n",
       "</table> "
      ],
      "text/plain": [
       "<pandas.io.formats.style.Styler at 0x10d8c4128>"
      ]
     },
     "execution_count": 324,
     "metadata": {},
     "output_type": "execute_result"
    }
   ],
   "source": [
    "df.groupby(['payband'])['salary','fte','headcount'].aggregate({\n",
    "    'salary': ['min', 'max', np.mean, np.median],\n",
    "    'fte': [np.sum],\n",
    "    'headcount': ['count']\n",
    "}).round(1).style.format('{:,}')"
   ]
  },
  {
   "cell_type": "markdown",
   "metadata": {
    "extensions": {
     "jupyter_dashboards": {
      "version": 1,
      "views": {
       "grid_default": {
        "col": 0,
        "height": 4,
        "hidden": false,
        "row": 84,
        "width": 4
       },
       "report_default": {
        "hidden": false
       }
      }
     }
    }
   },
   "source": [
    "## Pay options"
   ]
  },
  {
   "cell_type": "code",
   "execution_count": 325,
   "metadata": {
    "collapsed": true,
    "extensions": {
     "jupyter_dashboards": {
      "version": 1,
      "views": {
       "grid_default": {
        "hidden": true
       },
       "report_default": {
        "hidden": true
       }
      }
     }
    }
   },
   "outputs": [],
   "source": [
    "eligibility_date = pay_periods_df.get_value(0, 'cutoff_date')"
   ]
  },
  {
   "cell_type": "code",
   "execution_count": 326,
   "metadata": {
    "extensions": {
     "jupyter_dashboards": {
      "version": 1,
      "views": {
       "grid_default": {
        "col": 0,
        "height": 6,
        "hidden": false,
        "row": 89,
        "width": 6
       },
       "report_default": {
        "hidden": false
       }
      }
     }
    },
    "scrolled": false
   },
   "outputs": [
    {
     "data": {
      "text/html": [
       "<div>\n",
       "<style>\n",
       "    .dataframe thead tr:only-child th {\n",
       "        text-align: right;\n",
       "    }\n",
       "\n",
       "    .dataframe thead th {\n",
       "        text-align: left;\n",
       "    }\n",
       "\n",
       "    .dataframe tbody tr th {\n",
       "        vertical-align: top;\n",
       "    }\n",
       "</style>\n",
       "<table border=\"1\" class=\"dataframe\">\n",
       "  <thead>\n",
       "    <tr style=\"text-align: right;\">\n",
       "      <th>key</th>\n",
       "      <th>breakpoint</th>\n",
       "      <th>pay_award_tier1</th>\n",
       "      <th>pay_award_tier2</th>\n",
       "      <th>special_award</th>\n",
       "      <th>special_cases</th>\n",
       "    </tr>\n",
       "    <tr>\n",
       "      <th>payband</th>\n",
       "      <th></th>\n",
       "      <th></th>\n",
       "      <th></th>\n",
       "      <th></th>\n",
       "      <th></th>\n",
       "    </tr>\n",
       "  </thead>\n",
       "  <tbody>\n",
       "    <tr>\n",
       "      <th>1</th>\n",
       "      <td>80000.0</td>\n",
       "      <td>1000.0</td>\n",
       "      <td>250.0</td>\n",
       "      <td>2000.0</td>\n",
       "      <td>10.0</td>\n",
       "    </tr>\n",
       "    <tr>\n",
       "      <th>2</th>\n",
       "      <td>110000.0</td>\n",
       "      <td>1000.0</td>\n",
       "      <td>250.0</td>\n",
       "      <td>2000.0</td>\n",
       "      <td>5.0</td>\n",
       "    </tr>\n",
       "    <tr>\n",
       "      <th>3</th>\n",
       "      <td>135000.0</td>\n",
       "      <td>1000.0</td>\n",
       "      <td>250.0</td>\n",
       "      <td>NaN</td>\n",
       "      <td>NaN</td>\n",
       "    </tr>\n",
       "  </tbody>\n",
       "</table>\n",
       "</div>"
      ],
      "text/plain": [
       "key      breakpoint  pay_award_tier1  pay_award_tier2  special_award  \\\n",
       "payband                                                                \n",
       "1           80000.0           1000.0            250.0         2000.0   \n",
       "2          110000.0           1000.0            250.0         2000.0   \n",
       "3          135000.0           1000.0            250.0            NaN   \n",
       "\n",
       "key      special_cases  \n",
       "payband                 \n",
       "1                 10.0  \n",
       "2                  5.0  \n",
       "3                  NaN  "
      ]
     },
     "execution_count": 326,
     "metadata": {},
     "output_type": "execute_result"
    }
   ],
   "source": [
    "option_df # from pay_options_data table"
   ]
  },
  {
   "cell_type": "code",
   "execution_count": 327,
   "metadata": {
    "collapsed": true,
    "extensions": {
     "jupyter_dashboards": {
      "version": 1,
      "views": {
       "grid_default": {
        "hidden": true
       },
       "report_default": {
        "hidden": true
       }
      }
     }
    }
   },
   "outputs": [],
   "source": [
    "def get_special_cases(df, option_df):\n",
    "    '''\n",
    "    Returns lists of lists of employee numbers of records randomly selected as\n",
    "    special cases, based on the parameters specified in the pay model options.\n",
    "    '''\n",
    "    pb1_bpoint = option_df.loc[1, 'breakpoint']\n",
    "    pb2_bpoint = option_df.loc[2, 'breakpoint']\n",
    "    pb1_cases = option_df.loc[1, 'special_cases']\n",
    "    pb2_cases = option_df.loc[2, 'special_cases']\n",
    "    pb1_special = df[(df['payband'] == 1) & \n",
    "                     (df['salary'] < pb1_bpoint) &\n",
    "                     (df['random_group'] < 3)].reset_index().sample(int(pb1_cases))['emp_id']\n",
    "    pb2_special = df[(df['payband'] == 2) & \n",
    "                     (df['salary'] < pb2_bpoint) &\n",
    "                     (df['random_group'] < 3)].reset_index().sample(int(pb2_cases))['emp_id']\n",
    "    return pb1_special.tolist() + pb2_special.tolist()"
   ]
  },
  {
   "cell_type": "code",
   "execution_count": 328,
   "metadata": {
    "extensions": {
     "jupyter_dashboards": {
      "version": 1,
      "views": {
       "grid_default": {
        "col": 6,
        "height": 4,
        "hidden": false,
        "row": 93,
        "width": 4
       },
       "report_default": {
        "hidden": false
       }
      }
     }
    },
    "scrolled": false
   },
   "outputs": [
    {
     "name": "stdout",
     "output_type": "stream",
     "text": [
      "[9, 13, 21, 43, 45, 55, 63, 67, 68, 95, 131, 135, 137, 141, 143]\n",
      "Total: 15\n"
     ]
    }
   ],
   "source": [
    "special_cases = get_special_cases(df, option_df)\n",
    "print(sorted(special_cases))\n",
    "print('Total: {}'.format(len(special_cases)))"
   ]
  },
  {
   "cell_type": "code",
   "execution_count": 329,
   "metadata": {
    "collapsed": true,
    "extensions": {
     "jupyter_dashboards": {
      "version": 1,
      "views": {
       "grid_default": {
        "hidden": true
       },
       "report_default": {
        "hidden": true
       }
      }
     }
    }
   },
   "outputs": [],
   "source": [
    "def _pay_award(row):\n",
    "    pb = row.payband\n",
    "    pay_award = 0\n",
    "    # Apply the pay award for eligible employees\n",
    "    if ((row.hire_date < pd.to_datetime(eligibility_date)) & (row.random_group < 3)):\n",
    "        if row.salary < option_df.loc[pb, 'breakpoint']:\n",
    "            pay_award = option_df.loc[pb, 'pay_award_tier1']\n",
    "        else:\n",
    "            pay_award = option_df.loc[pb, 'pay_award_tier2']\n",
    "    \n",
    "    # If the employee is a special case, apply additional award\n",
    "    if row.emp_id in special_cases:\n",
    "        if row.payband == 1:\n",
    "            pay_award = option_df.loc[1, 'special_award']\n",
    "        if row.payband == 2:\n",
    "            pay_award = option_df.loc[2, 'special_award']\n",
    "    \n",
    "    return pay_award"
   ]
  },
  {
   "cell_type": "code",
   "execution_count": 330,
   "metadata": {
    "collapsed": true,
    "extensions": {
     "jupyter_dashboards": {
      "version": 1,
      "views": {
       "grid_default": {
        "hidden": true
       },
       "report_default": {
        "hidden": true
       }
      }
     }
    },
    "scrolled": false
   },
   "outputs": [],
   "source": [
    "award_df = df.reset_index()\n",
    "award_df['pay_award'] = award_df.apply(_pay_award, axis=1)"
   ]
  },
  {
   "cell_type": "code",
   "execution_count": 331,
   "metadata": {
    "collapsed": true,
    "extensions": {
     "jupyter_dashboards": {
      "version": 1,
      "views": {
       "grid_default": {
        "hidden": true
       },
       "report_default": {
        "hidden": true
       }
      }
     }
    }
   },
   "outputs": [],
   "source": [
    "# Fill N/A's with 0 to enable totals\n",
    "# award_df = award_df.fillna(value=0)\n",
    "award_df['new_salary'] = award_df['salary'] + award_df['pay_award'] + award_df['uplift']\n",
    "award_df['pro_rata_cost'] = (award_df['pay_award'] + award_df['uplift']) * award_df['fte']"
   ]
  },
  {
   "cell_type": "code",
   "execution_count": 332,
   "metadata": {
    "extensions": {
     "jupyter_dashboards": {
      "version": 1,
      "views": {
       "grid_default": {
        "col": 7,
        "height": 4,
        "hidden": false,
        "row": 97,
        "width": 4
       },
       "report_default": {
        "hidden": false
       }
      }
     }
    }
   },
   "outputs": [
    {
     "data": {
      "text/plain": [
       "'Cost of award: £135,524.0'"
      ]
     },
     "execution_count": 332,
     "metadata": {},
     "output_type": "execute_result"
    }
   ],
   "source": [
    "'Cost of award: £{:,}'.format(award_df['pro_rata_cost'].sum())"
   ]
  },
  {
   "cell_type": "code",
   "execution_count": 337,
   "metadata": {
    "extensions": {
     "jupyter_dashboards": {
      "version": 1,
      "views": {
       "grid_default": {
        "col": 7,
        "height": 4,
        "hidden": false,
        "row": 101,
        "width": 4
       },
       "report_default": {
        "hidden": false
       }
      }
     }
    },
    "scrolled": true
   },
   "outputs": [
    {
     "data": {
      "text/plain": [
       "'Cost of award: 0.9812431836491713%'"
      ]
     },
     "execution_count": 337,
     "metadata": {},
     "output_type": "execute_result"
    }
   ],
   "source": [
    "'Cost of award: {:}%'.format(award_df['pro_rata_cost'].sum() / paybill * 100)"
   ]
  },
  {
   "cell_type": "code",
   "execution_count": 338,
   "metadata": {
    "extensions": {
     "jupyter_dashboards": {
      "version": 1,
      "views": {
       "grid_default": {
        "col": 7,
        "height": 7,
        "hidden": false,
        "row": 105,
        "width": 4
       },
       "report_default": {
        "hidden": false
       }
      }
     }
    },
    "scrolled": false
   },
   "outputs": [
    {
     "data": {
      "image/png": "[encoded data removed]",
      "text/plain": [
       "<matplotlib.figure.Figure at 0x10daabda0>"
      ]
     },
     "metadata": {
      "image/png": {
       "height": 335,
       "width": 747
      }
     },
     "output_type": "display_data"
    }
   ],
   "source": [
    "f, (ax1, ax2) = plt.subplots(1, 2, sharex='all', sharey='all', figsize=(12,5))\n",
    "sns.boxplot(x='payband', y='salary', data=df, ax=ax1)\n",
    "ax1.set_title('Before')\n",
    "sns.boxplot(x='payband', y='new_salary', data=award_df, ax=ax2)\n",
    "ax2.set_title('After')\n",
    "ax2.set_ylabel('')\n",
    "plt.show()"
   ]
  },
  {
   "cell_type": "markdown",
   "metadata": {
    "collapsed": true,
    "extensions": {
     "jupyter_dashboards": {
      "version": 1,
      "views": {
       "grid_default": {
        "col": 7,
        "height": 4,
        "hidden": false,
        "row": 112,
        "width": 4
       },
       "report_default": {
        "hidden": false
       }
      }
     }
    }
   },
   "source": [
    "## Non-consolidated pay award"
   ]
  },
  {
   "cell_type": "code",
   "execution_count": 339,
   "metadata": {
    "collapsed": true,
    "extensions": {
     "jupyter_dashboards": {
      "version": 1,
      "views": {
       "grid_default": {
        "hidden": true
       },
       "report_default": {
        "hidden": true
       }
      }
     }
    }
   },
   "outputs": [],
   "source": [
    "def _bonus_award(row):\n",
    "    pb = row.payband\n",
    "    # Apply the pay award for eligible employees\n",
    "    if ((row.hire_date < pd.to_datetime(eligibility_date)) & (row.random_group == 1)):\n",
    "        return bonus_df.loc[pb, 'bonus']\n",
    "    else:\n",
    "        return 0"
   ]
  },
  {
   "cell_type": "code",
   "execution_count": 340,
   "metadata": {
    "collapsed": true,
    "extensions": {
     "jupyter_dashboards": {
      "version": 1,
      "views": {
       "grid_default": {
        "hidden": true
       },
       "report_default": {
        "hidden": true
       }
      }
     }
    },
    "scrolled": false
   },
   "outputs": [],
   "source": [
    "award_df['bonus'] = award_df.apply(_bonus_award, axis=1)\n",
    "award_df['pro_rata_bonus'] = award_df['bonus'] * award_df['fte']"
   ]
  },
  {
   "cell_type": "code",
   "execution_count": 341,
   "metadata": {
    "extensions": {
     "jupyter_dashboards": {
      "version": 1,
      "views": {
       "grid_default": {
        "col": 0,
        "height": 9,
        "hidden": false,
        "row": 129,
        "width": 11
       },
       "report_default": {
        "hidden": false
       }
      }
     }
    }
   },
   "outputs": [
    {
     "data": {
      "text/html": [
       "<div>\n",
       "<style>\n",
       "    .dataframe thead tr:only-child th {\n",
       "        text-align: right;\n",
       "    }\n",
       "\n",
       "    .dataframe thead th {\n",
       "        text-align: left;\n",
       "    }\n",
       "\n",
       "    .dataframe tbody tr th {\n",
       "        vertical-align: top;\n",
       "    }\n",
       "</style>\n",
       "<table border=\"1\" class=\"dataframe\">\n",
       "  <thead>\n",
       "    <tr style=\"text-align: right;\">\n",
       "      <th></th>\n",
       "      <th>emp_id</th>\n",
       "      <th>payband</th>\n",
       "      <th>salary</th>\n",
       "      <th>fte</th>\n",
       "      <th>hire_date</th>\n",
       "      <th>headcount</th>\n",
       "      <th>fte_salary</th>\n",
       "      <th>random_group</th>\n",
       "      <th>uplift</th>\n",
       "      <th>pay_award</th>\n",
       "      <th>new_salary</th>\n",
       "      <th>pro_rata_cost</th>\n",
       "      <th>bonus</th>\n",
       "      <th>pro_rata_bonus</th>\n",
       "    </tr>\n",
       "  </thead>\n",
       "  <tbody>\n",
       "    <tr>\n",
       "      <th>60</th>\n",
       "      <td>61</td>\n",
       "      <td>1</td>\n",
       "      <td>72383</td>\n",
       "      <td>1.00</td>\n",
       "      <td>1992-01-04</td>\n",
       "      <td>1</td>\n",
       "      <td>72383.00</td>\n",
       "      <td>1</td>\n",
       "      <td>0</td>\n",
       "      <td>1000.0</td>\n",
       "      <td>73383.0</td>\n",
       "      <td>1000.0</td>\n",
       "      <td>10750.0</td>\n",
       "      <td>10750.0</td>\n",
       "    </tr>\n",
       "    <tr>\n",
       "      <th>67</th>\n",
       "      <td>68</td>\n",
       "      <td>1</td>\n",
       "      <td>73810</td>\n",
       "      <td>1.00</td>\n",
       "      <td>2000-08-28</td>\n",
       "      <td>1</td>\n",
       "      <td>73810.00</td>\n",
       "      <td>1</td>\n",
       "      <td>0</td>\n",
       "      <td>2000.0</td>\n",
       "      <td>75810.0</td>\n",
       "      <td>2000.0</td>\n",
       "      <td>10750.0</td>\n",
       "      <td>10750.0</td>\n",
       "    </tr>\n",
       "    <tr>\n",
       "      <th>120</th>\n",
       "      <td>121</td>\n",
       "      <td>1</td>\n",
       "      <td>87776</td>\n",
       "      <td>1.00</td>\n",
       "      <td>1992-01-04</td>\n",
       "      <td>1</td>\n",
       "      <td>87776.00</td>\n",
       "      <td>1</td>\n",
       "      <td>0</td>\n",
       "      <td>250.0</td>\n",
       "      <td>88026.0</td>\n",
       "      <td>250.0</td>\n",
       "      <td>10750.0</td>\n",
       "      <td>10750.0</td>\n",
       "    </tr>\n",
       "    <tr>\n",
       "      <th>140</th>\n",
       "      <td>141</td>\n",
       "      <td>2</td>\n",
       "      <td>95138</td>\n",
       "      <td>0.67</td>\n",
       "      <td>1997-12-15</td>\n",
       "      <td>1</td>\n",
       "      <td>63742.46</td>\n",
       "      <td>1</td>\n",
       "      <td>0</td>\n",
       "      <td>2000.0</td>\n",
       "      <td>97138.0</td>\n",
       "      <td>1340.0</td>\n",
       "      <td>10750.0</td>\n",
       "      <td>7202.5</td>\n",
       "    </tr>\n",
       "    <tr>\n",
       "      <th>55</th>\n",
       "      <td>56</td>\n",
       "      <td>1</td>\n",
       "      <td>71458</td>\n",
       "      <td>0.67</td>\n",
       "      <td>2015-02-03</td>\n",
       "      <td>1</td>\n",
       "      <td>47876.86</td>\n",
       "      <td>1</td>\n",
       "      <td>0</td>\n",
       "      <td>1000.0</td>\n",
       "      <td>72458.0</td>\n",
       "      <td>670.0</td>\n",
       "      <td>10750.0</td>\n",
       "      <td>7202.5</td>\n",
       "    </tr>\n",
       "  </tbody>\n",
       "</table>\n",
       "</div>"
      ],
      "text/plain": [
       "     emp_id  payband  salary   fte  hire_date  headcount  fte_salary  \\\n",
       "60       61        1   72383  1.00 1992-01-04          1    72383.00   \n",
       "67       68        1   73810  1.00 2000-08-28          1    73810.00   \n",
       "120     121        1   87776  1.00 1992-01-04          1    87776.00   \n",
       "140     141        2   95138  0.67 1997-12-15          1    63742.46   \n",
       "55       56        1   71458  0.67 2015-02-03          1    47876.86   \n",
       "\n",
       "     random_group  uplift  pay_award  new_salary  pro_rata_cost    bonus  \\\n",
       "60              1       0     1000.0     73383.0         1000.0  10750.0   \n",
       "67              1       0     2000.0     75810.0         2000.0  10750.0   \n",
       "120             1       0      250.0     88026.0          250.0  10750.0   \n",
       "140             1       0     2000.0     97138.0         1340.0  10750.0   \n",
       "55              1       0     1000.0     72458.0          670.0  10750.0   \n",
       "\n",
       "     pro_rata_bonus  \n",
       "60          10750.0  \n",
       "67          10750.0  \n",
       "120         10750.0  \n",
       "140          7202.5  \n",
       "55           7202.5  "
      ]
     },
     "execution_count": 341,
     "metadata": {},
     "output_type": "execute_result"
    }
   ],
   "source": [
    "# Show a sample of current data\n",
    "award_df[award_df['bonus']>0].sample(5)"
   ]
  },
  {
   "cell_type": "code",
   "execution_count": 342,
   "metadata": {
    "extensions": {
     "jupyter_dashboards": {
      "version": 1,
      "views": {
       "grid_default": {
        "col": 7,
        "height": 4,
        "hidden": false,
        "row": 116,
        "width": 4
       },
       "report_default": {
        "hidden": false
       }
      }
     }
    },
    "scrolled": true
   },
   "outputs": [
    {
     "data": {
      "text/plain": [
       "'Cost of bonus: £415,380.0'"
      ]
     },
     "execution_count": 342,
     "metadata": {},
     "output_type": "execute_result"
    }
   ],
   "source": [
    "bonus_total = award_df['pro_rata_bonus'].sum()\n",
    "'Cost of bonus: £{:,}'.format(bonus_total)"
   ]
  },
  {
   "cell_type": "code",
   "execution_count": 343,
   "metadata": {
    "extensions": {
     "jupyter_dashboards": {
      "version": 1,
      "views": {
       "grid_default": {
        "col": 0,
        "height": 4,
        "hidden": false,
        "row": 138,
        "width": 4
       },
       "report_default": {
        "hidden": false
       }
      }
     }
    },
    "scrolled": true
   },
   "outputs": [
    {
     "data": {
      "text/plain": [
       "'Cost of bonus: 3.0075026830981435%'"
      ]
     },
     "execution_count": 343,
     "metadata": {},
     "output_type": "execute_result"
    }
   ],
   "source": [
    "'Cost of bonus: {:}%'.format(award_df['pro_rata_bonus'].sum() / paybill * 100)"
   ]
  },
  {
   "cell_type": "markdown",
   "metadata": {
    "extensions": {
     "jupyter_dashboards": {
      "version": 1,
      "views": {
       "grid_default": {
        "col": 4,
        "height": 4,
        "hidden": false,
        "row": 138,
        "width": 4
       },
       "report_default": {
        "hidden": false
       }
      }
     }
    }
   },
   "source": [
    "# Monte-Carlo Simulation"
   ]
  },
  {
   "cell_type": "code",
   "execution_count": 344,
   "metadata": {
    "collapsed": true,
    "extensions": {
     "jupyter_dashboards": {
      "version": 1,
      "views": {
       "grid_default": {
        "hidden": true
       },
       "report_default": {
        "hidden": true
       }
      }
     }
    },
    "tags": [
     "simulation"
    ]
   },
   "outputs": [],
   "source": [
    "def run_simulation(df, paybill=None, N=100):\n",
    "    df['headcount'] = 1\n",
    "    df['fte_salary'] = df['salary'] * df['fte']\n",
    "    \n",
    "    n_recs = len(df)\n",
    "    \n",
    "    if paybill:\n",
    "        paybill = paybill\n",
    "    else:\n",
    "        paybill = df['fte_salary'].sum()\n",
    "    \n",
    "    results = []\n",
    "    \n",
    "    for i in range(N):\n",
    "        df['random_group'] = _generate_random(n_recs)\n",
    "        \n",
    "        model_distribution = df.groupby('random_group')['headcount'].agg([np.size]).rename(columns={'size':'total'})\n",
    "        model_distribution['percent'] = model_distribution.total / model_distribution.total.sum()\n",
    "        \n",
    "        #############################\n",
    "        # Apply uplift to new mins\n",
    "        #############################\n",
    "        temp_df = df.copy()\n",
    "        temp_df['uplift'] = temp_df.apply(_apply_pay_uplift, axis=1)\n",
    "        df = temp_df\n",
    "        \n",
    "        ############################\n",
    "        # Apply pay awards\n",
    "        ############################\n",
    "        award_df = df.reset_index()\n",
    "        df['pay_award'] = award_df.apply(_pay_award, axis=1)\n",
    "        \n",
    "        ############################\n",
    "        # Apply bonus award\n",
    "        ############################\n",
    "        df['bonus'] = df.apply(_bonus_award, axis=1)\n",
    "        df['pro_rata_bonus'] = df['bonus'] * df['fte']\n",
    "        \n",
    "        ############################\n",
    "        # Analyse results \n",
    "        ############################\n",
    "        # Fill N/A's with 0 to enable totals\n",
    "        df = df.fillna(value=0)\n",
    "        df['pro_rata_cost'] = (df['pay_award'] + df['uplift']) * df['fte']\n",
    "        uplift_costs = (df['uplift'] * df['fte']).sum()\n",
    "        costs = df['pro_rata_cost'].sum()\n",
    "        bonus_total = df['pro_rata_bonus'].sum()\n",
    "        \n",
    "        results.append({\n",
    "            'group1': model_distribution.loc[1, 'percent'],\n",
    "            'group2': model_distribution.loc[2, 'percent'],\n",
    "            'group3': model_distribution.loc[3, 'percent'],\n",
    "            'pay_costs': costs,\n",
    "            'pay_percent': (costs / paybill) * 100,\n",
    "            'uplift_costs': uplift_costs,\n",
    "            'uplift_percent': (uplift_costs / paybill) * 100,\n",
    "            'bonus_costs': bonus_total,\n",
    "            'bonus_percent': (bonus_total / paybill) * 100\n",
    "        })\n",
    "        \n",
    "    return results"
   ]
  },
  {
   "cell_type": "code",
   "execution_count": 345,
   "metadata": {
    "extensions": {
     "jupyter_dashboards": {
      "version": 1,
      "views": {
       "grid_default": {
        "col": 8,
        "height": 4,
        "hidden": false,
        "row": 138,
        "width": 4
       },
       "report_default": {
        "hidden": false
       }
      }
     }
    }
   },
   "outputs": [
    {
     "name": "stdout",
     "output_type": "stream",
     "text": [
      "CPU times: user 40.2 s, sys: 268 ms, total: 40.5 s\n",
      "Wall time: 41.4 s\n"
     ]
    }
   ],
   "source": [
    "%%time\n",
    "# source_df = load_data(n_recs=110)\n",
    "source_df = model_data\n",
    "runs = 500\n",
    "paybill = 13811459\n",
    "output = run_simulation(source_df, paybill=paybill, N=runs)"
   ]
  },
  {
   "cell_type": "code",
   "execution_count": 346,
   "metadata": {
    "extensions": {
     "jupyter_dashboards": {
      "version": 1,
      "views": {
       "grid_default": {
        "col": 0,
        "height": 6,
        "hidden": false,
        "row": 142,
        "width": 4
       },
       "report_default": {
        "hidden": false
       }
      }
     }
    },
    "scrolled": false
   },
   "outputs": [
    {
     "data": {
      "text/plain": [
       "bonus_costs       423399.50\n",
       "bonus_percent          3.07\n",
       "group1                 0.25\n",
       "group2                 0.65\n",
       "group3                 0.10\n",
       "pay_costs         135741.80\n",
       "pay_percent            0.98\n",
       "uplift_costs       10419.00\n",
       "uplift_percent         0.08\n",
       "dtype: float64"
      ]
     },
     "execution_count": 346,
     "metadata": {},
     "output_type": "execute_result"
    }
   ],
   "source": [
    "results_df = pd.DataFrame(output)\n",
    "results_df.mean().round(2)"
   ]
  },
  {
   "cell_type": "code",
   "execution_count": 347,
   "metadata": {
    "extensions": {
     "jupyter_dashboards": {
      "version": 1,
      "views": {
       "grid_default": {
        "col": 4,
        "height": 10,
        "hidden": false,
        "row": 142,
        "width": 6
       },
       "report_default": {
        "hidden": false
       }
      }
     }
    }
   },
   "outputs": [
    {
     "data": {
      "text/html": [
       "<div>\n",
       "<style>\n",
       "    .dataframe thead tr:only-child th {\n",
       "        text-align: right;\n",
       "    }\n",
       "\n",
       "    .dataframe thead th {\n",
       "        text-align: left;\n",
       "    }\n",
       "\n",
       "    .dataframe tbody tr th {\n",
       "        vertical-align: top;\n",
       "    }\n",
       "</style>\n",
       "<table border=\"1\" class=\"dataframe\">\n",
       "  <thead>\n",
       "    <tr style=\"text-align: right;\">\n",
       "      <th></th>\n",
       "      <th>bonus_costs</th>\n",
       "      <th>bonus_percent</th>\n",
       "      <th>group1</th>\n",
       "      <th>group2</th>\n",
       "      <th>group3</th>\n",
       "      <th>pay_costs</th>\n",
       "      <th>pay_percent</th>\n",
       "      <th>uplift_costs</th>\n",
       "      <th>uplift_percent</th>\n",
       "    </tr>\n",
       "  </thead>\n",
       "  <tbody>\n",
       "    <tr>\n",
       "      <th>count</th>\n",
       "      <td>500.00</td>\n",
       "      <td>500.00</td>\n",
       "      <td>500.00</td>\n",
       "      <td>500.00</td>\n",
       "      <td>500.00</td>\n",
       "      <td>500.00</td>\n",
       "      <td>500.00</td>\n",
       "      <td>500.0</td>\n",
       "      <td>500.00</td>\n",
       "    </tr>\n",
       "    <tr>\n",
       "      <th>mean</th>\n",
       "      <td>423399.50</td>\n",
       "      <td>3.07</td>\n",
       "      <td>0.25</td>\n",
       "      <td>0.65</td>\n",
       "      <td>0.10</td>\n",
       "      <td>135741.80</td>\n",
       "      <td>0.98</td>\n",
       "      <td>10419.0</td>\n",
       "      <td>0.08</td>\n",
       "    </tr>\n",
       "    <tr>\n",
       "      <th>std</th>\n",
       "      <td>59098.53</td>\n",
       "      <td>0.43</td>\n",
       "      <td>0.03</td>\n",
       "      <td>0.04</td>\n",
       "      <td>0.02</td>\n",
       "      <td>2834.75</td>\n",
       "      <td>0.02</td>\n",
       "      <td>0.0</td>\n",
       "      <td>0.00</td>\n",
       "    </tr>\n",
       "    <tr>\n",
       "      <th>min</th>\n",
       "      <td>254990.00</td>\n",
       "      <td>1.85</td>\n",
       "      <td>0.15</td>\n",
       "      <td>0.55</td>\n",
       "      <td>0.04</td>\n",
       "      <td>123504.00</td>\n",
       "      <td>0.89</td>\n",
       "      <td>10419.0</td>\n",
       "      <td>0.08</td>\n",
       "    </tr>\n",
       "    <tr>\n",
       "      <th>25%</th>\n",
       "      <td>386785.00</td>\n",
       "      <td>2.80</td>\n",
       "      <td>0.22</td>\n",
       "      <td>0.63</td>\n",
       "      <td>0.08</td>\n",
       "      <td>134056.50</td>\n",
       "      <td>0.97</td>\n",
       "      <td>10419.0</td>\n",
       "      <td>0.08</td>\n",
       "    </tr>\n",
       "    <tr>\n",
       "      <th>50%</th>\n",
       "      <td>423012.50</td>\n",
       "      <td>3.06</td>\n",
       "      <td>0.25</td>\n",
       "      <td>0.65</td>\n",
       "      <td>0.10</td>\n",
       "      <td>135854.00</td>\n",
       "      <td>0.98</td>\n",
       "      <td>10419.0</td>\n",
       "      <td>0.08</td>\n",
       "    </tr>\n",
       "    <tr>\n",
       "      <th>75%</th>\n",
       "      <td>459428.12</td>\n",
       "      <td>3.33</td>\n",
       "      <td>0.27</td>\n",
       "      <td>0.67</td>\n",
       "      <td>0.11</td>\n",
       "      <td>137584.00</td>\n",
       "      <td>1.00</td>\n",
       "      <td>10419.0</td>\n",
       "      <td>0.08</td>\n",
       "    </tr>\n",
       "    <tr>\n",
       "      <th>max</th>\n",
       "      <td>616082.50</td>\n",
       "      <td>4.46</td>\n",
       "      <td>0.36</td>\n",
       "      <td>0.75</td>\n",
       "      <td>0.19</td>\n",
       "      <td>142784.00</td>\n",
       "      <td>1.03</td>\n",
       "      <td>10419.0</td>\n",
       "      <td>0.08</td>\n",
       "    </tr>\n",
       "  </tbody>\n",
       "</table>\n",
       "</div>"
      ],
      "text/plain": [
       "       bonus_costs  bonus_percent  group1  group2  group3  pay_costs  \\\n",
       "count       500.00         500.00  500.00  500.00  500.00     500.00   \n",
       "mean     423399.50           3.07    0.25    0.65    0.10  135741.80   \n",
       "std       59098.53           0.43    0.03    0.04    0.02    2834.75   \n",
       "min      254990.00           1.85    0.15    0.55    0.04  123504.00   \n",
       "25%      386785.00           2.80    0.22    0.63    0.08  134056.50   \n",
       "50%      423012.50           3.06    0.25    0.65    0.10  135854.00   \n",
       "75%      459428.12           3.33    0.27    0.67    0.11  137584.00   \n",
       "max      616082.50           4.46    0.36    0.75    0.19  142784.00   \n",
       "\n",
       "       pay_percent  uplift_costs  uplift_percent  \n",
       "count       500.00         500.0          500.00  \n",
       "mean          0.98       10419.0            0.08  \n",
       "std           0.02           0.0            0.00  \n",
       "min           0.89       10419.0            0.08  \n",
       "25%           0.97       10419.0            0.08  \n",
       "50%           0.98       10419.0            0.08  \n",
       "75%           1.00       10419.0            0.08  \n",
       "max           1.03       10419.0            0.08  "
      ]
     },
     "execution_count": 347,
     "metadata": {},
     "output_type": "execute_result"
    }
   ],
   "source": [
    "results_df.describe().round(2)"
   ]
  },
  {
   "cell_type": "markdown",
   "metadata": {},
   "source": [
    "# Saving results in the database"
   ]
  },
  {
   "cell_type": "markdown",
   "metadata": {},
   "source": [
    "## Open database connection"
   ]
  },
  {
   "cell_type": "code",
   "execution_count": 270,
   "metadata": {},
   "outputs": [],
   "source": [
    "if db_pass:\n",
    "    # Server\n",
    "    engine = create_engine(\"postgresql://tm470_owner:{}@172.17.0.1/tm470\".format(db_pass))\n",
    "    conn = engine.connect()\n",
    "else:\n",
    "    # Local environment\n",
    "    engine = create_engine(\"postgresql://Joachim:@localhost/tm470\")\n",
    "    conn = engine.connect()"
   ]
  },
  {
   "cell_type": "markdown",
   "metadata": {},
   "source": [
    "## Store consolidated option results"
   ]
  },
  {
   "cell_type": "code",
   "execution_count": 261,
   "metadata": {
    "collapsed": true
   },
   "outputs": [],
   "source": [
    "# Results of the consolidated option\n",
    "pay_option_id = 1\n",
    "period_id = 1\n",
    "model_params = option_df.to_json()\n",
    "pay_costs = float(results_df[['pay_costs']].mean().round(2))\n",
    "pay_percent = float(results_df[['pay_percent']].mean().round(2))\n",
    "uplift_costs = float(results_df[['uplift_costs']].mean().round(2))\n",
    "uplift_percent = float(results_df[['uplift_percent']].mean().round(2))"
   ]
  },
  {
   "cell_type": "code",
   "execution_count": 262,
   "metadata": {},
   "outputs": [],
   "source": [
    "sql = '''\n",
    "INSERT INTO model_results(\"option_id\", \"period_id\", \"model_params\", \"consolidated_costs\", \"consolidated_percent\",\n",
    "                          \"paybill\", \"runs\", \"uplift_costs\", \"uplift_percent\") \n",
    "VALUES({option_id}, {period_id}, '{model_params}', {consolidated_costs}, {consolidated_percent}, {paybill}, {runs},\n",
    "       {uplift_costs}, {uplift_percent});\n",
    "'''.format(option_id=pay_option_id, period_id=period_id, model_params=model_params, \n",
    "           consolidated_costs=pay_costs, consolidated_percent=pay_percent, paybill=paybill, runs=runs,\n",
    "           uplift_costs=uplift_costs, uplift_percent=uplift_percent)"
   ]
  },
  {
   "cell_type": "code",
   "execution_count": 263,
   "metadata": {},
   "outputs": [],
   "source": [
    "res = conn.execute(sql)"
   ]
  },
  {
   "cell_type": "markdown",
   "metadata": {},
   "source": [
    "## Store bonus option results"
   ]
  },
  {
   "cell_type": "code",
   "execution_count": 264,
   "metadata": {
    "collapsed": true
   },
   "outputs": [],
   "source": [
    "# Results of the bonus option\n",
    "pay_option_id = 2\n",
    "period_id = 1\n",
    "model_params = bonus_df.to_json()\n",
    "costs = float(results_df[['bonus_costs']].mean().round(2))\n",
    "percent = float(results_df[['bonus_percent']].mean().round(2))"
   ]
  },
  {
   "cell_type": "code",
   "execution_count": 265,
   "metadata": {},
   "outputs": [],
   "source": [
    "sql = '''\n",
    "INSERT INTO model_results(\"option_id\", \"period_id\", \"model_params\", \"bonus_costs\", \"bonus_percent\",\n",
    "                          \"paybill\", \"runs\") \n",
    "VALUES({option_id}, {period_id}, '{model_params}', {bonus_costs}, {bonus_percent}, {paybill}, {runs});\n",
    "'''.format(option_id=pay_option_id, period_id=period_id, model_params=model_params, \n",
    "           bonus_costs=costs, bonus_percent=percent, paybill=paybill, runs=runs)"
   ]
  },
  {
   "cell_type": "code",
   "execution_count": 266,
   "metadata": {},
   "outputs": [],
   "source": [
    "res = conn.execute(sql)"
   ]
  },
  {
   "cell_type": "code",
   "execution_count": 267,
   "metadata": {
    "collapsed": true
   },
   "outputs": [],
   "source": [
    "conn.close()"
   ]
  },
  {
   "cell_type": "markdown",
   "metadata": {
    "collapsed": true,
    "extensions": {
     "jupyter_dashboards": {
      "version": 1,
      "views": {
       "grid_default": {
        "col": 0,
        "height": 4,
        "hidden": false,
        "row": 148,
        "width": 4
       },
       "report_default": {
        "hidden": false
       }
      }
     }
    }
   },
   "source": [
    "# Sample data for further analysis"
   ]
  },
  {
   "cell_type": "markdown",
   "metadata": {
    "extensions": {
     "jupyter_dashboards": {
      "version": 1,
      "views": {
       "grid_default": {
        "col": 0,
        "height": 4,
        "hidden": false,
        "row": 152,
        "width": 4
       },
       "report_default": {
        "hidden": false
       }
      }
     }
    }
   },
   "source": [
    "### Generate random groups corresponding exactly with the guided distribution, i.e. 25%, 65% and 10%"
   ]
  },
  {
   "cell_type": "code",
   "execution_count": 61,
   "metadata": {
    "collapsed": true,
    "extensions": {
     "jupyter_dashboards": {
      "version": 1,
      "views": {
       "grid_default": {
        "hidden": true
       },
       "report_default": {
        "hidden": true
       }
      }
     }
    },
    "scrolled": false
   },
   "outputs": [],
   "source": [
    "def generate_best_distribution():\n",
    "    def generate_random():\n",
    "        df = model_data\n",
    "        #df = source_df.drop('random_group', 1)\n",
    "        n_recs = len(df)\n",
    "        df['random_group'] = _generate_random(n_recs)\n",
    "\n",
    "        group_totals = (df.groupby('random_group')['headcount'].agg([np.size])).rename(columns={'size': 'total'})\n",
    "        group_totals['percent'] = group_totals.total/group_totals.total.sum()\n",
    "        return group_totals, df\n",
    "    \n",
    "    group_totals, df = generate_random()\n",
    "    \n",
    "    while not ((group_totals.round(2).loc[1, 'percent'] > 0.245 and \n",
    "        group_totals.round(2).loc[1, 'percent'] <= 0.255) and\n",
    "        (group_totals.round(2).loc[3, 'percent'] > 0.095 and \n",
    "            group_totals.round(2).loc[3, 'percent'] <= 0.105)):\n",
    "        group_totals, df = generate_random()\n",
    "    return group_totals, df"
   ]
  },
  {
   "cell_type": "code",
   "execution_count": 62,
   "metadata": {
    "extensions": {
     "jupyter_dashboards": {
      "version": 1,
      "views": {
       "grid_default": {
        "col": 4,
        "height": 6,
        "hidden": false,
        "row": 152,
        "width": 4
       },
       "report_default": {
        "hidden": false
       }
      }
     }
    },
    "scrolled": false
   },
   "outputs": [
    {
     "data": {
      "text/html": [
       "<div>\n",
       "<style>\n",
       "    .dataframe thead tr:only-child th {\n",
       "        text-align: right;\n",
       "    }\n",
       "\n",
       "    .dataframe thead th {\n",
       "        text-align: left;\n",
       "    }\n",
       "\n",
       "    .dataframe tbody tr th {\n",
       "        vertical-align: top;\n",
       "    }\n",
       "</style>\n",
       "<table border=\"1\" class=\"dataframe\">\n",
       "  <thead>\n",
       "    <tr style=\"text-align: right;\">\n",
       "      <th></th>\n",
       "      <th>total</th>\n",
       "      <th>percent</th>\n",
       "    </tr>\n",
       "    <tr>\n",
       "      <th>random_group</th>\n",
       "      <th></th>\n",
       "      <th></th>\n",
       "    </tr>\n",
       "  </thead>\n",
       "  <tbody>\n",
       "    <tr>\n",
       "      <th>1</th>\n",
       "      <td>42</td>\n",
       "      <td>0.253012</td>\n",
       "    </tr>\n",
       "    <tr>\n",
       "      <th>2</th>\n",
       "      <td>108</td>\n",
       "      <td>0.650602</td>\n",
       "    </tr>\n",
       "    <tr>\n",
       "      <th>3</th>\n",
       "      <td>16</td>\n",
       "      <td>0.096386</td>\n",
       "    </tr>\n",
       "  </tbody>\n",
       "</table>\n",
       "</div>"
      ],
      "text/plain": [
       "              total   percent\n",
       "random_group                 \n",
       "1                42  0.253012\n",
       "2               108  0.650602\n",
       "3                16  0.096386"
      ]
     },
     "execution_count": 62,
     "metadata": {},
     "output_type": "execute_result"
    }
   ],
   "source": [
    "# Check distribution by random group\n",
    "group_totals, df = generate_best_distribution()\n",
    "group_totals"
   ]
  },
  {
   "cell_type": "code",
   "execution_count": 184,
   "metadata": {
    "extensions": {
     "jupyter_dashboards": {
      "version": 1,
      "views": {
       "grid_default": {
        "hidden": true
       },
       "report_default": {
        "hidden": true
       }
      }
     }
    },
    "scrolled": true
   },
   "outputs": [
    {
     "data": {
      "text/html": [
       "<div>\n",
       "<style>\n",
       "    .dataframe thead tr:only-child th {\n",
       "        text-align: right;\n",
       "    }\n",
       "\n",
       "    .dataframe thead th {\n",
       "        text-align: left;\n",
       "    }\n",
       "\n",
       "    .dataframe tbody tr th {\n",
       "        vertical-align: top;\n",
       "    }\n",
       "</style>\n",
       "<table border=\"1\" class=\"dataframe\">\n",
       "  <thead>\n",
       "    <tr style=\"text-align: right;\">\n",
       "      <th>random_group</th>\n",
       "      <th>1</th>\n",
       "      <th>2</th>\n",
       "      <th>3</th>\n",
       "      <th>All</th>\n",
       "    </tr>\n",
       "    <tr>\n",
       "      <th>payband</th>\n",
       "      <th></th>\n",
       "      <th></th>\n",
       "      <th></th>\n",
       "      <th></th>\n",
       "    </tr>\n",
       "  </thead>\n",
       "  <tbody>\n",
       "    <tr>\n",
       "      <th>1</th>\n",
       "      <td>29.0</td>\n",
       "      <td>94.0</td>\n",
       "      <td>7.0</td>\n",
       "      <td>130.0</td>\n",
       "    </tr>\n",
       "    <tr>\n",
       "      <th>2</th>\n",
       "      <td>3.0</td>\n",
       "      <td>22.0</td>\n",
       "      <td>4.0</td>\n",
       "      <td>29.0</td>\n",
       "    </tr>\n",
       "    <tr>\n",
       "      <th>3</th>\n",
       "      <td>NaN</td>\n",
       "      <td>5.0</td>\n",
       "      <td>2.0</td>\n",
       "      <td>7.0</td>\n",
       "    </tr>\n",
       "    <tr>\n",
       "      <th>All</th>\n",
       "      <td>32.0</td>\n",
       "      <td>121.0</td>\n",
       "      <td>13.0</td>\n",
       "      <td>166.0</td>\n",
       "    </tr>\n",
       "  </tbody>\n",
       "</table>\n",
       "</div>"
      ],
      "text/plain": [
       "random_group     1      2     3    All\n",
       "payband                               \n",
       "1             29.0   94.0   7.0  130.0\n",
       "2              3.0   22.0   4.0   29.0\n",
       "3              NaN    5.0   2.0    7.0\n",
       "All           32.0  121.0  13.0  166.0"
      ]
     },
     "execution_count": 184,
     "metadata": {},
     "output_type": "execute_result"
    }
   ],
   "source": [
    "# Check distribution within paybands\n",
    "df.pivot_table(index='payband', columns='random_group', values='headcount', aggfunc=np.size, margins=True)"
   ]
  },
  {
   "cell_type": "code",
   "execution_count": null,
   "metadata": {},
   "outputs": [],
   "source": []
  },
  {
   "cell_type": "code",
   "execution_count": null,
   "metadata": {
    "collapsed": true
   },
   "outputs": [],
   "source": []
  }
 ],
 "metadata": {
  "extensions": {
   "jupyter_dashboards": {
    "activeView": "report_default",
    "version": 1,
    "views": {
     "grid_default": {
      "cellMargin": 10,
      "defaultCellHeight": 20,
      "maxColumns": 12,
      "name": "grid",
      "type": "grid"
     },
     "report_default": {
      "name": "report",
      "type": "report"
     }
    }
   }
  },
  "kernelspec": {
   "display_name": "Python 3",
   "language": "python",
   "name": "python3"
  },
  "language_info": {
   "codemirror_mode": {
    "name": "ipython",
    "version": 3
   },
   "file_extension": ".py",
   "mimetype": "text/x-python",
   "name": "python",
   "nbconvert_exporter": "python",
   "pygments_lexer": "ipython3",
   "version": "3.6.2"
  }
 },
 "nbformat": 4,
 "nbformat_minor": 2
}
